{
  "nbformat": 4,
  "nbformat_minor": 0,
  "metadata": {
    "colab": {
      "provenance": []
    },
    "kernelspec": {
      "name": "python3",
      "display_name": "Python 3"
    },
    "language_info": {
      "name": "python"
    }
  },
  "cells": [
    {
      "cell_type": "code",
      "execution_count": 3,
      "metadata": {
        "colab": {
          "base_uri": "https://localhost:8080/"
        },
        "id": "acWGX5K1Tmqp",
        "outputId": "95456035-b3cd-4489-ef03-8718ad685e1d"
      },
      "outputs": [
        {
          "output_type": "stream",
          "name": "stdout",
          "text": [
            "Drive already mounted at /content/drive; to attempt to forcibly remount, call drive.mount(\"/content/drive\", force_remount=True).\n"
          ]
        }
      ],
      "source": [
        "from google.colab import drive\n",
        "drive.mount('/content/drive')\n"
      ]
    },
    {
      "cell_type": "code",
      "source": [
        "import os\n",
        "\n",
        "base_path = \"/content/drive/MyDrive/Data\"\n",
        "print(\"Folders inside:\", os.listdir(base_path))"
      ],
      "metadata": {
        "colab": {
          "base_uri": "https://localhost:8080/"
        },
        "id": "YHcotbGvV1UX",
        "outputId": "7b397347-9db4-4c01-d7d4-9da00df9b3c2"
      },
      "execution_count": 4,
      "outputs": [
        {
          "output_type": "stream",
          "name": "stdout",
          "text": [
            "Folders inside: ['pins_amber heard', 'pins_Mark Zuckerberg', 'pins_scarlett johansson', 'pins_Rebecca Ferguson', 'pins_Tom Cruise', 'pins_Zendaya', 'pins_Wentworth Miller', 'dataset.xlsx', 'pins_tom ellis', 'pins_Zac Efron', 'pins_Tuppence Middleton', 'pins_Tom Hiddleston', 'pins_Ursula Corbero', 'pins_Tom Holland', 'pins_Penn Badgley', 'pins_Rami Malek', 'pins_Tom Hardy', 'pins_Sophie Turner', 'pins_Robert De Niro', 'pins_Shakira Isabel Mebarak', 'pins_Sarah Wayne Callies', 'pins_Stephen Amell', 'pins_Richard Harmon', 'pins_Rihanna', 'pins_Morena Baccarin', 'pins_Robert Downey Jr', 'pins_Selena Gomez', 'pins_Keanu Reeves', 'pins_melissa fumero', 'pins_Natalie Portman', 'pins_Miley Cyrus', 'pins_Mark Ruffalo', 'pins_Maisie Williams', 'pins_Alex Lawther', 'pins_Neil Patrick Harris', 'pins_Megan Fox', 'pins_Marie Avgeropoulos', 'pins_Nadia Hilker', 'pins_Pedro Alonso', 'pins_Morgan Freeman', 'pins_Millie Bobby Brown', 'pins_Natalie Dormer', 'pins_Andy Samberg', 'pins_Katharine Mcphee', 'pins_Madelaine Petsch', 'pins_Jeremy Renner', 'pins_Jason Momoa', 'pins_margot robbie', 'pins_Krysten Ritter', 'pins_Maria Pedraza', 'pins_Lili Reinhart', 'pins_Jimmy Fallon', 'pins_Katherine Langford', 'pins_Logan Lerman', 'pins_Johnny Depp', 'pins_Jessica Barden', 'pins_Dwayne Johnson', 'pins_Lionel Messi', 'pins_kiernen shipka', 'pins_Lindsey Morgan', 'pins_jeff bezos', 'pins_Josh Radnor', 'pins_Leonardo DiCaprio', 'pins_Inbar Lavi', 'pins_Irina Shayk', 'pins_elon musk', 'pins_Jake Mcdorman', 'pins_Gwyneth Paltrow', 'pins_Jennifer Lawrence', 'pins_Hugh Jackman', 'pins_camila mendes', 'pins_Emilia Clarke', 'pins_grant gustin', 'pins_Danielle Panabaker', 'pins_ellen page', 'pins_gal gadot', 'pins_Emma Watson', 'pins_Elizabeth Lail', 'pins_Emma Stone', 'pins_Cristiano Ronaldo', 'pins_Henry Cavil', 'pins_Chris Pratt', 'pins_Bobby Morley', 'pins_Christian Bale', 'pins_Brie Larson', 'pins_Chris Evans', 'pins_Dominic Purcell', 'pins_elizabeth olsen', 'pins_Bill Gates', 'pins_Chris Hemsworth', 'pins_Alvaro Morte', 'pins_Eliza Taylor', 'pins_alycia dabnem carey', 'pins_Anne Hathaway', 'pins_Adriana Lima', 'pins_Avril Lavigne', 'pins_Brian J. Smith', 'pins_Amanda Crew', 'pins_Brenton Thwaites', 'pins_Alexandra Daddario', 'pins_barack obama', 'pins_Ben Affleck', 'pins_Anthony Mackie', 'pins_barbara palvin', 'pins_Taylor Swift', 'pins_Zoe Saldana']\n"
          ]
        }
      ]
    },
    {
      "cell_type": "code",
      "source": [
        "DATASET_DIR = \"/content/drive/MyDrive/Data\""
      ],
      "metadata": {
        "id": "_AsGyaduZNCB"
      },
      "execution_count": 5,
      "outputs": []
    },
    {
      "cell_type": "code",
      "source": [
        "print(\"Top-level identities:\", os.listdir(DATASET_DIR)[:10])"
      ],
      "metadata": {
        "colab": {
          "base_uri": "https://localhost:8080/"
        },
        "id": "XBYZk_VyZkO_",
        "outputId": "8d3fa6d2-7b6a-442f-ec11-3fd3fab8cb15"
      },
      "execution_count": 6,
      "outputs": [
        {
          "output_type": "stream",
          "name": "stdout",
          "text": [
            "Top-level identities: ['pins_amber heard', 'pins_Mark Zuckerberg', 'pins_scarlett johansson', 'pins_Rebecca Ferguson', 'pins_Tom Cruise', 'pins_Zendaya', 'pins_Wentworth Miller', 'dataset.xlsx', 'pins_tom ellis', 'pins_Zac Efron']\n"
          ]
        }
      ]
    },
    {
      "cell_type": "code",
      "source": [
        "import pandas as pd\n",
        "\n",
        "excel_path = \"/content/drive/MyDrive/Data/dataset.xlsx\"\n",
        "df = pd.read_excel(excel_path)\n",
        "\n",
        "print(df.head())\n",
        "print(df.columns)"
      ],
      "metadata": {
        "colab": {
          "base_uri": "https://localhost:8080/"
        },
        "id": "0IMI7edAZ0iv",
        "outputId": "3fbf7ba0-31a7-4a27-a428-e96ba4d8263e"
      },
      "execution_count": 7,
      "outputs": [
        {
          "output_type": "stream",
          "name": "stdout",
          "text": [
            "                                     ID                 Name    Status  Age\n",
            "0  bf723908-8899-11f0-bbe4-0242ac1c000c         Adriana Lima    denied   42\n",
            "1  bf723a48-8899-11f0-bbe4-0242ac1c000c         Alex Lawther    denied   42\n",
            "2  bf723aca-8899-11f0-bbe4-0242ac1c000c   Alexandra Daddario  approved   51\n",
            "3  bf723b42-8899-11f0-bbe4-0242ac1c000c         Alvaro Morte    denied   40\n",
            "4  bf723bba-8899-11f0-bbe4-0242ac1c000c  alycia dabnem carey    denied   43\n",
            "Index(['ID', 'Name', 'Status', 'Age'], dtype='object')\n"
          ]
        }
      ]
    },
    {
      "cell_type": "code",
      "source": [
        "!pip -q install openpyxl rapidfuzz\n",
        "\n",
        "import os, re, shutil, random, pandas as pd\n",
        "from rapidfuzz import process, fuzz\n",
        "random.seed(42)\n",
        "\n",
        "# <-- عدّلي هذا لمسار مجلد الصور (كل مجلد = شخص)\n",
        "BASE_DIR = \"/content/drive/MyDrive/Data\"\n",
        "\n",
        "# <-- عدّلي هذا لمسار ملف الإكسل\n",
        "EXCEL_PATH = \"/content/drive/MyDrive/Data/dataset.xlsx\"\n",
        "\n",
        "df_meta = pd.read_excel(EXCEL_PATH, engine=\"openpyxl\")\n",
        "df_meta.columns = [str(c).strip().lower() for c in df_meta.columns]\n",
        "print(\"Columns:\", df_meta.columns.tolist())\n",
        "assert {\"id\",\"name\",\"status\",\"age\"}.issubset(df_meta.columns), \"ملف الإكسل لازم يحتوي الأعمدة: id, name, status, age\"\n",
        "\n",
        "# طبّعي الأعمدة المهمة\n",
        "df_meta[\"name\"] = df_meta[\"name\"].astype(str).str.strip()\n",
        "df_meta[\"status\"] = df_meta[\"status\"].astype(str).str.strip().str.lower()\n",
        "\n",
        "# المجلدات الموجودة فعليًا على القرص\n",
        "folders_on_disk = [d for d in os.listdir(BASE_DIR) if os.path.isdir(os.path.join(BASE_DIR, d))]\n",
        "print(\"Folders on disk (sample):\", folders_on_disk[:10], \" | total:\", len(folders_on_disk))\n"
      ],
      "metadata": {
        "colab": {
          "base_uri": "https://localhost:8080/"
        },
        "id": "MwhdXyWma4S4",
        "outputId": "2ca90fd8-ba39-4779-c5a2-38a2e41c4375"
      },
      "execution_count": 8,
      "outputs": [
        {
          "output_type": "stream",
          "name": "stdout",
          "text": [
            "Columns: ['id', 'name', 'status', 'age']\n",
            "Folders on disk (sample): ['pins_amber heard', 'pins_Mark Zuckerberg', 'pins_scarlett johansson', 'pins_Rebecca Ferguson', 'pins_Tom Cruise', 'pins_Zendaya', 'pins_Wentworth Miller', 'pins_tom ellis', 'pins_Zac Efron', 'pins_Tuppence Middleton']  | total: 105\n"
          ]
        }
      ]
    },
    {
      "cell_type": "code",
      "source": [
        "def strip_prefix(name: str):\n",
        "    # يشيل \"pins_\" أو أي بادئة منتهية بـ \"_\" مرة وحدة\n",
        "    return re.sub(r'^[A-Za-z]+_', '', name).strip()\n",
        "\n",
        "def slugify(s: str):\n",
        "    # توحيد: حروف صغيرة، حذف الرموز، مسافات/شرطات -> _\n",
        "    s = s.lower().strip()\n",
        "    s = s.replace(\"&\",\"and\")\n",
        "    s = re.sub(r\"[\\'’`]\", \"\", s)\n",
        "    s = re.sub(r\"[_\\s\\-]+\", \"_\", s)\n",
        "    s = re.sub(r\"[^a-z0-9_]\", \"\", s)\n",
        "    s = re.sub(r\"_+\", \"_\", s).strip(\"_\")\n",
        "    return s\n",
        "\n",
        "# حضّري سلاجات من الإكسل\n",
        "df_meta[\"name_slug\"] = df_meta[\"name\"].map(slugify)\n",
        "\n",
        "# حضّري سلاج للفولدرات (بعد إزالة البادئة)\n",
        "folder_core   = {f: strip_prefix(f) for f in folders_on_disk}        # \"Adriana Lima\"\n",
        "folder_slug   = {f: slugify(folder_core[f]) for f in folders_on_disk}# \"adriana_lima\"\n"
      ],
      "metadata": {
        "id": "uiJZqVxujwmK"
      },
      "execution_count": 9,
      "outputs": []
    },
    {
      "cell_type": "code",
      "source": [
        "# خرايط lookup من الإكسل\n",
        "name_to_idx = {df_meta.loc[i, \"name_slug\"]: i for i in range(len(df_meta))}\n",
        "\n",
        "matched = {}\n",
        "unmatched = []\n",
        "\n",
        "for f in folders_on_disk:\n",
        "    fslug = folder_slug[f]\n",
        "    if fslug in name_to_idx:\n",
        "        matched[f] = name_to_idx[fslug]\n",
        "    else:\n",
        "        unmatched.append(f)\n",
        "\n",
        "print(f\"Matched {len(matched)} / {len(folders_on_disk)}\")\n",
        "print(\"Unmatched sample:\", unmatched[:8])\n"
      ],
      "metadata": {
        "colab": {
          "base_uri": "https://localhost:8080/"
        },
        "id": "cniE-D-sj6Si",
        "outputId": "279c73cf-479e-47f2-e2c0-f1ec2a11bb0a"
      },
      "execution_count": 10,
      "outputs": [
        {
          "output_type": "stream",
          "name": "stdout",
          "text": [
            "Matched 105 / 105\n",
            "Unmatched sample: []\n"
          ]
        }
      ]
    },
    {
      "cell_type": "code",
      "source": [
        "import os, re, random, shutil, pandas as pd\n",
        "from sklearn.model_selection import train_test_split\n",
        "random.seed(42)\n",
        "\n",
        "# مساراتك\n",
        "BASE_DIR   = \"/content/drive/MyDrive/Data\"  # يحوي مجلدات: pins_Adriana Lima ...\n",
        "EXCEL_PATH = \"/content/drive/MyDrive/Data/dataset.xlsx\"     # فيه id, name, status, age\n",
        "OUT_ROOT   = \"/content/data\"  # سيُنشأ train/ و val/\n",
        "os.makedirs(OUT_ROOT, exist_ok=True)\n",
        "\n",
        "def is_img(f): return f.lower().endswith(('.jpg','.jpeg','.png','.webp'))\n",
        "\n",
        "def strip_prefix(name: str):\n",
        "    # يشيل أي بادئة منتهية بـ \"_\" مثل pins_\n",
        "    return re.sub(r'^[A-Za-z]+_', '', name).strip()\n",
        "\n",
        "# 1) اقرأ الإكسل وحددي status\n",
        "dfm = pd.read_excel(EXCEL_PATH)\n",
        "dfm.columns = [str(c).strip().lower() for c in dfm.columns]\n",
        "assert {\"id\",\"name\",\"status\",\"age\"}.issubset(dfm.columns)\n",
        "dfm[\"name\"]   = dfm[\"name\"].astype(str).str.strip()\n",
        "dfm[\"status\"] = dfm[\"status\"].astype(str).str.strip().str.lower()\n",
        "\n",
        "# 2) ابنِ جدول الصور: label = اسم المجلد بعد إزالة pins_\n",
        "rows = []\n",
        "folders = [d for d in os.listdir(BASE_DIR) if os.path.isdir(os.path.join(BASE_DIR, d))]\n",
        "for folder in folders:\n",
        "    identity = strip_prefix(folder)  # مثال: pins_Adriana Lima -> Adriana Lima\n",
        "    fpath = os.path.join(BASE_DIR, folder)\n",
        "    # ملاحظة: هون ربطنا الاسم الداخلي بالـidentity مباشرة (اسم المجلد بدون prefix)\n",
        "    for fn in os.listdir(fpath):\n",
        "        if not is_img(fn): continue\n",
        "        rows.append({\n",
        "            \"path\": os.path.join(fpath, fn),\n",
        "            \"identity\": identity,\n",
        "            \"filename\": fn\n",
        "        })\n",
        "df = pd.DataFrame(rows)\n",
        "\n",
        "# 3) فلترة حسب Status من الإكسل (اختياري لكن أنصح فيه)\n",
        "# نفترض إن عمود name في الإكسل يطابق identity (بدون pins_). لو فيه اختلافات طفيفة، خبريني أضيف لك تطبيع/مطابقة.\n",
        "approved_names = set(dfm.loc[dfm[\"status\"].isin([\"denied\",\"approved\"]), \"name\"])\n",
        "if len(approved_names) > 0:\n",
        "    before = len(df)\n",
        "    df = df[df[\"identity\"].isin(approved_names)].copy()\n",
        "    print(f\"Status filter: {before} -> {len(df)} images kept (approved only)\")\n",
        "\n",
        "# تأكيد حد أدنى للصور لكل هوية (مع بياناتك غالبًا الجميع > 100)\n",
        "df = df.groupby(\"identity\").filter(lambda g: len(g) >= 20).reset_index(drop=True)\n",
        "print(\"Identities:\", df[\"identity\"].nunique())\n",
        "\n",
        "# 4) Split 80/20 (Stratified)\n",
        "train_df, val_df = train_test_split(\n",
        "    df, test_size=0.2, stratify=df[\"identity\"], random_state=42\n",
        ")\n",
        "\n",
        "# ====== (اختياري) السيناريو B: Sampling على الـTrain فقط ======\n",
        "DO_SAMPLING = False     # ← غيّريها إلى True لو بدك سرعة أعلى\n",
        "MAX_PER_ID_TRAIN = 120  # حد أعلى لكل هوية في Train\n",
        "\n",
        "if DO_SAMPLING:\n",
        "    def cap_train(group):\n",
        "        return group.sample(n=min(MAX_PER_ID_TRAIN, len(group)), random_state=42)\n",
        "    train_df = train_df.groupby(\"identity\", group_keys=False).apply(cap_train).reset_index(drop=True)\n",
        "\n",
        "print(\"Train images:\", len(train_df), \"| Val images:\", len(val_df))\n",
        "\n",
        "# 5) نسخ لهيكل التدريب\n",
        "TRAIN_DIR = os.path.join(OUT_ROOT, \"train\")\n",
        "VAL_DIR   = os.path.join(OUT_ROOT, \"val\")\n",
        "for p in (TRAIN_DIR, VAL_DIR): os.makedirs(p, exist_ok=True)\n",
        "\n",
        "def copy_split(split_df, root):\n",
        "    for _, r in split_df.iterrows():\n",
        "        ident = r[\"identity\"]\n",
        "        src   = r[\"path\"]\n",
        "        dst_dir = os.path.join(root, ident)\n",
        "        os.makedirs(dst_dir, exist_ok=True)\n",
        "        shutil.copy2(src, os.path.join(dst_dir, os.path.basename(src)))\n",
        "\n",
        "copy_split(train_df, TRAIN_DIR)\n",
        "copy_split(val_df,   VAL_DIR)\n",
        "\n",
        "print(\"Train IDs:\", len([d for d in os.listdir(TRAIN_DIR) if os.path.isdir(os.path.join(TRAIN_DIR, d))]))\n",
        "print(\"Val IDs:\",   len([d for d in os.listdir(VAL_DIR)   if os.path.isdir(os.path.join(VAL_DIR, d))]))\n"
      ],
      "metadata": {
        "colab": {
          "base_uri": "https://localhost:8080/",
          "height": 408
        },
        "id": "Hy4tyzPGxtAn",
        "outputId": "b32f70db-0b79-45a2-980e-7fd938cd7f45"
      },
      "execution_count": 98,
      "outputs": [
        {
          "output_type": "stream",
          "name": "stdout",
          "text": [
            "Status filter: 15478 -> 15478 images kept (approved only)\n",
            "Identities: 105\n",
            "Train images: 12382 | Val images: 3096\n"
          ]
        },
        {
          "output_type": "error",
          "ename": "KeyboardInterrupt",
          "evalue": "",
          "traceback": [
            "\u001b[0;31m---------------------------------------------------------------------------\u001b[0m",
            "\u001b[0;31mKeyboardInterrupt\u001b[0m                         Traceback (most recent call last)",
            "\u001b[0;32m/tmp/ipython-input-2020451741.py\u001b[0m in \u001b[0;36m<cell line: 0>\u001b[0;34m()\u001b[0m\n\u001b[1;32m     79\u001b[0m         \u001b[0mshutil\u001b[0m\u001b[0;34m.\u001b[0m\u001b[0mcopy2\u001b[0m\u001b[0;34m(\u001b[0m\u001b[0msrc\u001b[0m\u001b[0;34m,\u001b[0m \u001b[0mos\u001b[0m\u001b[0;34m.\u001b[0m\u001b[0mpath\u001b[0m\u001b[0;34m.\u001b[0m\u001b[0mjoin\u001b[0m\u001b[0;34m(\u001b[0m\u001b[0mdst_dir\u001b[0m\u001b[0;34m,\u001b[0m \u001b[0mos\u001b[0m\u001b[0;34m.\u001b[0m\u001b[0mpath\u001b[0m\u001b[0;34m.\u001b[0m\u001b[0mbasename\u001b[0m\u001b[0;34m(\u001b[0m\u001b[0msrc\u001b[0m\u001b[0;34m)\u001b[0m\u001b[0;34m)\u001b[0m\u001b[0;34m)\u001b[0m\u001b[0;34m\u001b[0m\u001b[0;34m\u001b[0m\u001b[0m\n\u001b[1;32m     80\u001b[0m \u001b[0;34m\u001b[0m\u001b[0m\n\u001b[0;32m---> 81\u001b[0;31m \u001b[0mcopy_split\u001b[0m\u001b[0;34m(\u001b[0m\u001b[0mtrain_df\u001b[0m\u001b[0;34m,\u001b[0m \u001b[0mTRAIN_DIR\u001b[0m\u001b[0;34m)\u001b[0m\u001b[0;34m\u001b[0m\u001b[0;34m\u001b[0m\u001b[0m\n\u001b[0m\u001b[1;32m     82\u001b[0m \u001b[0mcopy_split\u001b[0m\u001b[0;34m(\u001b[0m\u001b[0mval_df\u001b[0m\u001b[0;34m,\u001b[0m   \u001b[0mVAL_DIR\u001b[0m\u001b[0;34m)\u001b[0m\u001b[0;34m\u001b[0m\u001b[0;34m\u001b[0m\u001b[0m\n\u001b[1;32m     83\u001b[0m \u001b[0;34m\u001b[0m\u001b[0m\n",
            "\u001b[0;32m/tmp/ipython-input-2020451741.py\u001b[0m in \u001b[0;36mcopy_split\u001b[0;34m(split_df, root)\u001b[0m\n\u001b[1;32m     77\u001b[0m         \u001b[0mdst_dir\u001b[0m \u001b[0;34m=\u001b[0m \u001b[0mos\u001b[0m\u001b[0;34m.\u001b[0m\u001b[0mpath\u001b[0m\u001b[0;34m.\u001b[0m\u001b[0mjoin\u001b[0m\u001b[0;34m(\u001b[0m\u001b[0mroot\u001b[0m\u001b[0;34m,\u001b[0m \u001b[0mident\u001b[0m\u001b[0;34m)\u001b[0m\u001b[0;34m\u001b[0m\u001b[0;34m\u001b[0m\u001b[0m\n\u001b[1;32m     78\u001b[0m         \u001b[0mos\u001b[0m\u001b[0;34m.\u001b[0m\u001b[0mmakedirs\u001b[0m\u001b[0;34m(\u001b[0m\u001b[0mdst_dir\u001b[0m\u001b[0;34m,\u001b[0m \u001b[0mexist_ok\u001b[0m\u001b[0;34m=\u001b[0m\u001b[0;32mTrue\u001b[0m\u001b[0;34m)\u001b[0m\u001b[0;34m\u001b[0m\u001b[0;34m\u001b[0m\u001b[0m\n\u001b[0;32m---> 79\u001b[0;31m         \u001b[0mshutil\u001b[0m\u001b[0;34m.\u001b[0m\u001b[0mcopy2\u001b[0m\u001b[0;34m(\u001b[0m\u001b[0msrc\u001b[0m\u001b[0;34m,\u001b[0m \u001b[0mos\u001b[0m\u001b[0;34m.\u001b[0m\u001b[0mpath\u001b[0m\u001b[0;34m.\u001b[0m\u001b[0mjoin\u001b[0m\u001b[0;34m(\u001b[0m\u001b[0mdst_dir\u001b[0m\u001b[0;34m,\u001b[0m \u001b[0mos\u001b[0m\u001b[0;34m.\u001b[0m\u001b[0mpath\u001b[0m\u001b[0;34m.\u001b[0m\u001b[0mbasename\u001b[0m\u001b[0;34m(\u001b[0m\u001b[0msrc\u001b[0m\u001b[0;34m)\u001b[0m\u001b[0;34m)\u001b[0m\u001b[0;34m)\u001b[0m\u001b[0;34m\u001b[0m\u001b[0;34m\u001b[0m\u001b[0m\n\u001b[0m\u001b[1;32m     80\u001b[0m \u001b[0;34m\u001b[0m\u001b[0m\n\u001b[1;32m     81\u001b[0m \u001b[0mcopy_split\u001b[0m\u001b[0;34m(\u001b[0m\u001b[0mtrain_df\u001b[0m\u001b[0;34m,\u001b[0m \u001b[0mTRAIN_DIR\u001b[0m\u001b[0;34m)\u001b[0m\u001b[0;34m\u001b[0m\u001b[0;34m\u001b[0m\u001b[0m\n",
            "\u001b[0;32m/usr/lib/python3.12/shutil.py\u001b[0m in \u001b[0;36mcopy2\u001b[0;34m(src, dst, follow_symlinks)\u001b[0m\n\u001b[1;32m    474\u001b[0m \u001b[0;34m\u001b[0m\u001b[0m\n\u001b[1;32m    475\u001b[0m     \u001b[0mcopyfile\u001b[0m\u001b[0;34m(\u001b[0m\u001b[0msrc\u001b[0m\u001b[0;34m,\u001b[0m \u001b[0mdst\u001b[0m\u001b[0;34m,\u001b[0m \u001b[0mfollow_symlinks\u001b[0m\u001b[0;34m=\u001b[0m\u001b[0mfollow_symlinks\u001b[0m\u001b[0;34m)\u001b[0m\u001b[0;34m\u001b[0m\u001b[0;34m\u001b[0m\u001b[0m\n\u001b[0;32m--> 476\u001b[0;31m     \u001b[0mcopystat\u001b[0m\u001b[0;34m(\u001b[0m\u001b[0msrc\u001b[0m\u001b[0;34m,\u001b[0m \u001b[0mdst\u001b[0m\u001b[0;34m,\u001b[0m \u001b[0mfollow_symlinks\u001b[0m\u001b[0;34m=\u001b[0m\u001b[0mfollow_symlinks\u001b[0m\u001b[0;34m)\u001b[0m\u001b[0;34m\u001b[0m\u001b[0;34m\u001b[0m\u001b[0m\n\u001b[0m\u001b[1;32m    477\u001b[0m     \u001b[0;32mreturn\u001b[0m \u001b[0mdst\u001b[0m\u001b[0;34m\u001b[0m\u001b[0;34m\u001b[0m\u001b[0m\n\u001b[1;32m    478\u001b[0m \u001b[0;34m\u001b[0m\u001b[0m\n",
            "\u001b[0;32m/usr/lib/python3.12/shutil.py\u001b[0m in \u001b[0;36mcopystat\u001b[0;34m(src, dst, follow_symlinks)\u001b[0m\n\u001b[1;32m    380\u001b[0m         \u001b[0mst\u001b[0m \u001b[0;34m=\u001b[0m \u001b[0msrc\u001b[0m\u001b[0;34m.\u001b[0m\u001b[0mstat\u001b[0m\u001b[0;34m(\u001b[0m\u001b[0mfollow_symlinks\u001b[0m\u001b[0;34m=\u001b[0m\u001b[0mfollow\u001b[0m\u001b[0;34m)\u001b[0m\u001b[0;34m\u001b[0m\u001b[0;34m\u001b[0m\u001b[0m\n\u001b[1;32m    381\u001b[0m     \u001b[0;32melse\u001b[0m\u001b[0;34m:\u001b[0m\u001b[0;34m\u001b[0m\u001b[0;34m\u001b[0m\u001b[0m\n\u001b[0;32m--> 382\u001b[0;31m         \u001b[0mst\u001b[0m \u001b[0;34m=\u001b[0m \u001b[0mlookup\u001b[0m\u001b[0;34m(\u001b[0m\u001b[0;34m\"stat\"\u001b[0m\u001b[0;34m)\u001b[0m\u001b[0;34m(\u001b[0m\u001b[0msrc\u001b[0m\u001b[0;34m,\u001b[0m \u001b[0mfollow_symlinks\u001b[0m\u001b[0;34m=\u001b[0m\u001b[0mfollow\u001b[0m\u001b[0;34m)\u001b[0m\u001b[0;34m\u001b[0m\u001b[0;34m\u001b[0m\u001b[0m\n\u001b[0m\u001b[1;32m    383\u001b[0m     \u001b[0mmode\u001b[0m \u001b[0;34m=\u001b[0m \u001b[0mstat\u001b[0m\u001b[0;34m.\u001b[0m\u001b[0mS_IMODE\u001b[0m\u001b[0;34m(\u001b[0m\u001b[0mst\u001b[0m\u001b[0;34m.\u001b[0m\u001b[0mst_mode\u001b[0m\u001b[0;34m)\u001b[0m\u001b[0;34m\u001b[0m\u001b[0;34m\u001b[0m\u001b[0m\n\u001b[1;32m    384\u001b[0m     lookup(\"utime\")(dst, ns=(st.st_atime_ns, st.st_mtime_ns),\n",
            "\u001b[0;31mKeyboardInterrupt\u001b[0m: "
          ]
        }
      ]
    },
    {
      "cell_type": "code",
      "source": [
        "import os, random, shutil, cv2\n",
        "random.seed(42)\n",
        "\n",
        "# عدّلي هذا لمسار المجلد الذي يحتوي على كل فولدرات الأشخاص:\n",
        "SRC_ROOT = \"/content/drive/MyDrive/Data\"\n",
        "\n",
        "# مكان إخراج العينة المقسّمة:\n",
        "DST_TRAIN = \"/content/sampled/train\"\n",
        "DST_VAL   = \"/content/sampled/val\"\n",
        "os.makedirs(DST_TRAIN, exist_ok=True)\n",
        "os.makedirs(DST_VAL,   exist_ok=True)\n",
        "\n",
        "# كم صورة بدك من كل فولدر إجمالاً (Train+Val)؟\n",
        "SAMPLE_PER_FOLDER = 120   # غيّريه لـ 80/100/150 حسب وقتك\n",
        "\n",
        "# نسبة التحقق:\n",
        "VAL_RATIO = 0.2  # 20% Val\n"
      ],
      "metadata": {
        "id": "asM_5NbOxnjn"
      },
      "execution_count": 11,
      "outputs": []
    },
    {
      "cell_type": "code",
      "source": [
        "import os\n",
        "\n",
        "# إذا فولدر Data موجود داخل \"Colab Notebooks\":\n",
        "SRC_ROOT = \"/content/drive/MyDrive/Data\"\n",
        "\n",
        "# (بديل) إذا Data في MyDrive مباشرة:\n",
        "# SRC_ROOT = \"/content/drive/MyDrive/Data\"\n",
        "\n",
        "print(\"SRC_ROOT =\", SRC_ROOT)\n",
        "print(\"Sample folders:\", os.listdir(SRC_ROOT)[:6])\n"
      ],
      "metadata": {
        "colab": {
          "base_uri": "https://localhost:8080/"
        },
        "id": "cEb02jvc_1Bh",
        "outputId": "8fb289d7-59b5-4f9d-8862-72a8b77363f0"
      },
      "execution_count": 12,
      "outputs": [
        {
          "output_type": "stream",
          "name": "stdout",
          "text": [
            "SRC_ROOT = /content/drive/MyDrive/Data\n",
            "Sample folders: ['pins_amber heard', 'pins_Mark Zuckerberg', 'pins_scarlett johansson', 'pins_Rebecca Ferguson', 'pins_Tom Cruise', 'pins_Zendaya']\n"
          ]
        }
      ]
    },
    {
      "cell_type": "code",
      "source": [
        "def is_img(f): return f.lower().endswith(('.jpg','.jpeg','.png','.webp'))\n",
        "\n",
        "def count_images(root):\n",
        "    c=0\n",
        "    for r,_,fs in os.walk(root):\n",
        "        c += sum(is_img(f) for f in fs)\n",
        "    return c\n",
        "\n",
        "train_ids = len([d for d in os.listdir(DST_TRAIN) if os.path.isdir(os.path.join(DST_TRAIN,d))])\n",
        "val_ids   = len([d for d in os.listdir(DST_VAL)   if os.path.isdir(os.path.join(DST_VAL,d))])\n",
        "\n",
        "print(\"Train IDs:\", train_ids, \"| Val IDs:\", val_ids)\n",
        "print(\"Train images:\", count_images(DST_TRAIN))\n",
        "print(\"Val images:\",   count_images(DST_VAL))\n"
      ],
      "metadata": {
        "colab": {
          "base_uri": "https://localhost:8080/"
        },
        "id": "bZg5mCPeAI3J",
        "outputId": "b267e36e-75ea-49f4-8cfa-1c2843dc2e07"
      },
      "execution_count": 13,
      "outputs": [
        {
          "output_type": "stream",
          "name": "stdout",
          "text": [
            "Train IDs: 105 | Val IDs: 105\n",
            "Train images: 6717\n",
            "Val images: 1679\n"
          ]
        }
      ]
    },
    {
      "cell_type": "code",
      "source": [
        "# استخدمي إحدى المجموعتين:\n",
        "TRAIN_DIR = \"/content/sampled/train\"\n",
        "VAL_DIR   = \"/content/sampled/val\"\n",
        "\n",
        "# أو الداتا الكاملة:\n",
        "# TRAIN_DIR = \"/content/full/train\"\n",
        "# VAL_DIR   = \"/content/full/val\"\n",
        "\n",
        "import os\n",
        "print(\"Train:\", os.path.exists(TRAIN_DIR), \"| Val:\", os.path.exists(VAL_DIR))\n"
      ],
      "metadata": {
        "colab": {
          "base_uri": "https://localhost:8080/"
        },
        "id": "OQvPa7tICtVl",
        "outputId": "8d3cc248-1286-4fa9-976d-6daff1ef124d"
      },
      "execution_count": 15,
      "outputs": [
        {
          "output_type": "stream",
          "name": "stdout",
          "text": [
            "Train: True | Val: True\n"
          ]
        }
      ]
    },
    {
      "cell_type": "code",
      "source": [
        "!pip -q install facenet-pytorch torchvision pillow tqdm opencv-python\n"
      ],
      "metadata": {
        "colab": {
          "base_uri": "https://localhost:8080/"
        },
        "id": "I9VUInqyiKYz",
        "outputId": "f26cb6bc-b9ff-4883-ab30-1f297b2d18cc"
      },
      "execution_count": 16,
      "outputs": [
        {
          "output_type": "stream",
          "name": "stdout",
          "text": [
            "\u001b[?25l   \u001b[90m━━━━━━━━━━━━━━━━━━━━━━━━━━━━━━━━━━━━━━━━\u001b[0m \u001b[32m0.0/1.9 MB\u001b[0m \u001b[31m?\u001b[0m eta \u001b[36m-:--:--\u001b[0m\r\u001b[2K   \u001b[91m━━━━━━━━━━━━━━━━━━━━━━━━━━━━━━━━━━━━━━━\u001b[0m\u001b[91m╸\u001b[0m \u001b[32m1.9/1.9 MB\u001b[0m \u001b[31m59.2 MB/s\u001b[0m eta \u001b[36m0:00:01\u001b[0m\r\u001b[2K   \u001b[90m━━━━━━━━━━━━━━━━━━━━━━━━━━━━━━━━━━━━━━━━\u001b[0m \u001b[32m1.9/1.9 MB\u001b[0m \u001b[31m35.2 MB/s\u001b[0m eta \u001b[36m0:00:00\u001b[0m\n",
            "\u001b[2K   \u001b[90m━━━━━━━━━━━━━━━━━━━━━━━━━━━━━━━━━━━━━━━━\u001b[0m \u001b[32m6.9/6.9 MB\u001b[0m \u001b[31m87.0 MB/s\u001b[0m eta \u001b[36m0:00:00\u001b[0m\n",
            "\u001b[2K   \u001b[90m━━━━━━━━━━━━━━━━━━━━━━━━━━━━━━━━━━━━━━━━\u001b[0m \u001b[32m755.5/755.5 MB\u001b[0m \u001b[31m1.0 MB/s\u001b[0m eta \u001b[36m0:00:00\u001b[0m\n",
            "\u001b[2K   \u001b[90m━━━━━━━━━━━━━━━━━━━━━━━━━━━━━━━━━━━━━━━━\u001b[0m \u001b[32m410.6/410.6 MB\u001b[0m \u001b[31m3.6 MB/s\u001b[0m eta \u001b[36m0:00:00\u001b[0m\n",
            "\u001b[2K   \u001b[90m━━━━━━━━━━━━━━━━━━━━━━━━━━━━━━━━━━━━━━━━\u001b[0m \u001b[32m14.1/14.1 MB\u001b[0m \u001b[31m81.3 MB/s\u001b[0m eta \u001b[36m0:00:00\u001b[0m\n",
            "\u001b[2K   \u001b[90m━━━━━━━━━━━━━━━━━━━━━━━━━━━━━━━━━━━━━━━━\u001b[0m \u001b[32m23.7/23.7 MB\u001b[0m \u001b[31m84.1 MB/s\u001b[0m eta \u001b[36m0:00:00\u001b[0m\n",
            "\u001b[2K   \u001b[90m━━━━━━━━━━━━━━━━━━━━━━━━━━━━━━━━━━━━━━━━\u001b[0m \u001b[32m823.6/823.6 kB\u001b[0m \u001b[31m43.8 MB/s\u001b[0m eta \u001b[36m0:00:00\u001b[0m\n",
            "\u001b[2K   \u001b[90m━━━━━━━━━━━━━━━━━━━━━━━━━━━━━━━━━━━━━━━━\u001b[0m \u001b[32m731.7/731.7 MB\u001b[0m \u001b[31m1.5 MB/s\u001b[0m eta \u001b[36m0:00:00\u001b[0m\n",
            "\u001b[2K   \u001b[90m━━━━━━━━━━━━━━━━━━━━━━━━━━━━━━━━━━━━━━━━\u001b[0m \u001b[32m121.6/121.6 MB\u001b[0m \u001b[31m7.7 MB/s\u001b[0m eta \u001b[36m0:00:00\u001b[0m\n",
            "\u001b[2K   \u001b[90m━━━━━━━━━━━━━━━━━━━━━━━━━━━━━━━━━━━━━━━━\u001b[0m \u001b[32m56.5/56.5 MB\u001b[0m \u001b[31m14.0 MB/s\u001b[0m eta \u001b[36m0:00:00\u001b[0m\n",
            "\u001b[2K   \u001b[90m━━━━━━━━━━━━━━━━━━━━━━━━━━━━━━━━━━━━━━━━\u001b[0m \u001b[32m124.2/124.2 MB\u001b[0m \u001b[31m8.3 MB/s\u001b[0m eta \u001b[36m0:00:00\u001b[0m\n",
            "\u001b[2K   \u001b[90m━━━━━━━━━━━━━━━━━━━━━━━━━━━━━━━━━━━━━━━━\u001b[0m \u001b[32m196.0/196.0 MB\u001b[0m \u001b[31m5.4 MB/s\u001b[0m eta \u001b[36m0:00:00\u001b[0m\n",
            "\u001b[2K   \u001b[90m━━━━━━━━━━━━━━━━━━━━━━━━━━━━━━━━━━━━━━━━\u001b[0m \u001b[32m166.0/166.0 MB\u001b[0m \u001b[31m7.5 MB/s\u001b[0m eta \u001b[36m0:00:00\u001b[0m\n",
            "\u001b[2K   \u001b[90m━━━━━━━━━━━━━━━━━━━━━━━━━━━━━━━━━━━━━━━━\u001b[0m \u001b[32m99.1/99.1 kB\u001b[0m \u001b[31m5.7 MB/s\u001b[0m eta \u001b[36m0:00:00\u001b[0m\n",
            "\u001b[2K   \u001b[90m━━━━━━━━━━━━━━━━━━━━━━━━━━━━━━━━━━━━━━━━\u001b[0m \u001b[32m4.5/4.5 MB\u001b[0m \u001b[31m78.7 MB/s\u001b[0m eta \u001b[36m0:00:00\u001b[0m\n",
            "\u001b[?25h\u001b[31mERROR: pip's dependency resolver does not currently take into account all the packages that are installed. This behaviour is the source of the following dependency conflicts.\n",
            "deepface 0.0.93 requires keras>=2.2.0, which is not installed.\n",
            "dopamine-rl 4.1.2 requires tf-keras>=2.18.0, which is not installed.\n",
            "torchaudio 2.8.0+cu126 requires torch==2.8.0, but you have torch 2.2.2 which is incompatible.\u001b[0m\u001b[31m\n",
            "\u001b[0m"
          ]
        }
      ]
    },
    {
      "cell_type": "code",
      "source": [
        "!pip install torchvision\n"
      ],
      "metadata": {
        "colab": {
          "base_uri": "https://localhost:8080/"
        },
        "id": "qn4RpRvmkSbF",
        "outputId": "fd02d96f-f037-41f5-89c0-8db3e0fef8b6"
      },
      "execution_count": 25,
      "outputs": [
        {
          "output_type": "stream",
          "name": "stdout",
          "text": [
            "Requirement already satisfied: torchvision in /usr/local/lib/python3.12/dist-packages (0.17.2)\n",
            "Requirement already satisfied: numpy in /usr/local/lib/python3.12/dist-packages (from torchvision) (1.26.4)\n",
            "Requirement already satisfied: torch==2.2.2 in /usr/local/lib/python3.12/dist-packages (from torchvision) (2.2.2)\n",
            "Requirement already satisfied: pillow!=8.3.*,>=5.3.0 in /usr/local/lib/python3.12/dist-packages (from torchvision) (9.5.0)\n",
            "Requirement already satisfied: filelock in /usr/local/lib/python3.12/dist-packages (from torch==2.2.2->torchvision) (3.19.1)\n",
            "Requirement already satisfied: typing-extensions>=4.8.0 in /usr/local/lib/python3.12/dist-packages (from torch==2.2.2->torchvision) (4.15.0)\n",
            "Requirement already satisfied: sympy in /usr/local/lib/python3.12/dist-packages (from torch==2.2.2->torchvision) (1.13.3)\n",
            "Requirement already satisfied: networkx in /usr/local/lib/python3.12/dist-packages (from torch==2.2.2->torchvision) (3.5)\n",
            "Requirement already satisfied: jinja2 in /usr/local/lib/python3.12/dist-packages (from torch==2.2.2->torchvision) (3.1.6)\n",
            "Requirement already satisfied: fsspec in /usr/local/lib/python3.12/dist-packages (from torch==2.2.2->torchvision) (2025.3.0)\n",
            "Requirement already satisfied: nvidia-cuda-nvrtc-cu12==12.1.105 in /usr/local/lib/python3.12/dist-packages (from torch==2.2.2->torchvision) (12.1.105)\n",
            "Requirement already satisfied: nvidia-cuda-runtime-cu12==12.1.105 in /usr/local/lib/python3.12/dist-packages (from torch==2.2.2->torchvision) (12.1.105)\n",
            "Requirement already satisfied: nvidia-cuda-cupti-cu12==12.1.105 in /usr/local/lib/python3.12/dist-packages (from torch==2.2.2->torchvision) (12.1.105)\n",
            "Requirement already satisfied: nvidia-cudnn-cu12==8.9.2.26 in /usr/local/lib/python3.12/dist-packages (from torch==2.2.2->torchvision) (8.9.2.26)\n",
            "Requirement already satisfied: nvidia-cublas-cu12==12.1.3.1 in /usr/local/lib/python3.12/dist-packages (from torch==2.2.2->torchvision) (12.1.3.1)\n",
            "Requirement already satisfied: nvidia-cufft-cu12==11.0.2.54 in /usr/local/lib/python3.12/dist-packages (from torch==2.2.2->torchvision) (11.0.2.54)\n",
            "Requirement already satisfied: nvidia-curand-cu12==10.3.2.106 in /usr/local/lib/python3.12/dist-packages (from torch==2.2.2->torchvision) (10.3.2.106)\n",
            "Requirement already satisfied: nvidia-cusolver-cu12==11.4.5.107 in /usr/local/lib/python3.12/dist-packages (from torch==2.2.2->torchvision) (11.4.5.107)\n",
            "Requirement already satisfied: nvidia-cusparse-cu12==12.1.0.106 in /usr/local/lib/python3.12/dist-packages (from torch==2.2.2->torchvision) (12.1.0.106)\n",
            "Requirement already satisfied: nvidia-nccl-cu12==2.19.3 in /usr/local/lib/python3.12/dist-packages (from torch==2.2.2->torchvision) (2.19.3)\n",
            "Requirement already satisfied: nvidia-nvtx-cu12==12.1.105 in /usr/local/lib/python3.12/dist-packages (from torch==2.2.2->torchvision) (12.1.105)\n",
            "Requirement already satisfied: nvidia-nvjitlink-cu12 in /usr/local/lib/python3.12/dist-packages (from nvidia-cusolver-cu12==11.4.5.107->torch==2.2.2->torchvision) (12.6.85)\n",
            "Requirement already satisfied: MarkupSafe>=2.0 in /usr/local/lib/python3.12/dist-packages (from jinja2->torch==2.2.2->torchvision) (3.0.2)\n",
            "Requirement already satisfied: mpmath<1.4,>=1.1.0 in /usr/local/lib/python3.12/dist-packages (from sympy->torch==2.2.2->torchvision) (1.3.0)\n"
          ]
        }
      ]
    },
    {
      "cell_type": "code",
      "source": [
        "import torch, torch.nn as nn\n",
        "from torchvision import models, transforms\n",
        "from PIL import Image\n",
        "import cv2, numpy as np, os\n",
        "from tqdm import tqdm\n",
        "\n",
        "device = \"cuda\" if torch.cuda.is_available() else \"cpu\"\n",
        "print(\"Device:\", device)\n",
        "\n",
        "# كاشف وجوه بسيط من OpenCV\n",
        "face_cascade = cv2.CascadeClassifier(cv2.data.haarcascades + \"haarcascade_frontalface_default.xml\")\n",
        "\n",
        "def detect_and_crop_face(img_bgr, margin=0.2, out_size=(224,224)):\n",
        "    gray = cv2.cvtColor(img_bgr, cv2.COLOR_BGR2GRAY)\n",
        "    faces = face_cascade.detectMultiScale(gray, 1.1, 5)\n",
        "    if len(faces)==0:\n",
        "        # فشل الكشف → استخدم الصورة كاملة (آخر حل)\n",
        "        face = cv2.resize(img_bgr, out_size, interpolation=cv2.INTER_AREA)\n",
        "        return Image.fromarray(cv2.cvtColor(face, cv2.COLOR_BGR2RGB))\n",
        "    # خذ أكبر وجه\n",
        "    x,y,w,h = sorted(faces, key=lambda b: b[2]*b[3], reverse=True)[0]\n",
        "    dx, dy = int(margin*w), int(margin*h)\n",
        "    x1=max(0,x-dx); y1=max(0,y-dy); x2=min(img_bgr.shape[1], x+w+dx); y2=min(img_bgr.shape[0], y+h+dy)\n",
        "    crop = img_bgr[y1:y2, x1:x2]\n",
        "    face = cv2.resize(crop, out_size, interpolation=cv2.INTER_AREA)\n",
        "    return Image.fromarray(cv2.cvtColor(face, cv2.COLOR_BGR2RGB))\n",
        "\n",
        "# تحولات ResNet\n",
        "transform = transforms.Compose([\n",
        "    transforms.ToTensor(),\n",
        "    transforms.Normalize([0.485,0.456,0.406],[0.229,0.224,0.225])\n",
        "])\n"
      ],
      "metadata": {
        "colab": {
          "base_uri": "https://localhost:8080/",
          "height": 546
        },
        "id": "hHa_37__MaZy",
        "outputId": "49b2b0f2-2179-47e3-997f-989f8fbf4b1d"
      },
      "execution_count": 32,
      "outputs": [
        {
          "output_type": "error",
          "ename": "ImportError",
          "evalue": "cannot import name 'is_directory' from 'PIL._util' (/usr/local/lib/python3.12/dist-packages/PIL/_util.py)",
          "traceback": [
            "\u001b[0;31m---------------------------------------------------------------------------\u001b[0m",
            "\u001b[0;31mImportError\u001b[0m                               Traceback (most recent call last)",
            "\u001b[0;32m/tmp/ipython-input-117426848.py\u001b[0m in \u001b[0;36m<cell line: 0>\u001b[0;34m()\u001b[0m\n\u001b[1;32m      1\u001b[0m \u001b[0;32mimport\u001b[0m \u001b[0mtorch\u001b[0m\u001b[0;34m,\u001b[0m \u001b[0mtorch\u001b[0m\u001b[0;34m.\u001b[0m\u001b[0mnn\u001b[0m \u001b[0;32mas\u001b[0m \u001b[0mnn\u001b[0m\u001b[0;34m\u001b[0m\u001b[0;34m\u001b[0m\u001b[0m\n\u001b[0;32m----> 2\u001b[0;31m \u001b[0;32mfrom\u001b[0m \u001b[0mtorchvision\u001b[0m \u001b[0;32mimport\u001b[0m \u001b[0mmodels\u001b[0m\u001b[0;34m,\u001b[0m \u001b[0mtransforms\u001b[0m\u001b[0;34m\u001b[0m\u001b[0;34m\u001b[0m\u001b[0m\n\u001b[0m\u001b[1;32m      3\u001b[0m \u001b[0;32mfrom\u001b[0m \u001b[0mPIL\u001b[0m \u001b[0;32mimport\u001b[0m \u001b[0mImage\u001b[0m\u001b[0;34m\u001b[0m\u001b[0;34m\u001b[0m\u001b[0m\n\u001b[1;32m      4\u001b[0m \u001b[0;32mimport\u001b[0m \u001b[0mcv2\u001b[0m\u001b[0;34m,\u001b[0m \u001b[0mnumpy\u001b[0m \u001b[0;32mas\u001b[0m \u001b[0mnp\u001b[0m\u001b[0;34m,\u001b[0m \u001b[0mos\u001b[0m\u001b[0;34m\u001b[0m\u001b[0;34m\u001b[0m\u001b[0m\n\u001b[1;32m      5\u001b[0m \u001b[0;32mfrom\u001b[0m \u001b[0mtqdm\u001b[0m \u001b[0;32mimport\u001b[0m \u001b[0mtqdm\u001b[0m\u001b[0;34m\u001b[0m\u001b[0;34m\u001b[0m\u001b[0m\n",
            "\u001b[0;32m/usr/local/lib/python3.12/dist-packages/torchvision/__init__.py\u001b[0m in \u001b[0;36m<module>\u001b[0;34m\u001b[0m\n\u001b[1;32m      4\u001b[0m \u001b[0;34m\u001b[0m\u001b[0m\n\u001b[1;32m      5\u001b[0m \u001b[0;32mimport\u001b[0m \u001b[0mtorch\u001b[0m\u001b[0;34m\u001b[0m\u001b[0;34m\u001b[0m\u001b[0m\n\u001b[0;32m----> 6\u001b[0;31m \u001b[0;32mfrom\u001b[0m \u001b[0mtorchvision\u001b[0m \u001b[0;32mimport\u001b[0m \u001b[0m_meta_registrations\u001b[0m\u001b[0;34m,\u001b[0m \u001b[0mdatasets\u001b[0m\u001b[0;34m,\u001b[0m \u001b[0mio\u001b[0m\u001b[0;34m,\u001b[0m \u001b[0mmodels\u001b[0m\u001b[0;34m,\u001b[0m \u001b[0mops\u001b[0m\u001b[0;34m,\u001b[0m \u001b[0mtransforms\u001b[0m\u001b[0;34m,\u001b[0m \u001b[0mutils\u001b[0m\u001b[0;34m\u001b[0m\u001b[0;34m\u001b[0m\u001b[0m\n\u001b[0m\u001b[1;32m      7\u001b[0m \u001b[0;34m\u001b[0m\u001b[0m\n\u001b[1;32m      8\u001b[0m \u001b[0;32mfrom\u001b[0m \u001b[0;34m.\u001b[0m\u001b[0mextension\u001b[0m \u001b[0;32mimport\u001b[0m \u001b[0m_HAS_OPS\u001b[0m\u001b[0;34m\u001b[0m\u001b[0;34m\u001b[0m\u001b[0m\n",
            "\u001b[0;32m/usr/local/lib/python3.12/dist-packages/torchvision/datasets/__init__.py\u001b[0m in \u001b[0;36m<module>\u001b[0;34m\u001b[0m\n\u001b[0;32m----> 1\u001b[0;31m \u001b[0;32mfrom\u001b[0m \u001b[0;34m.\u001b[0m\u001b[0m_optical_flow\u001b[0m \u001b[0;32mimport\u001b[0m \u001b[0mFlyingChairs\u001b[0m\u001b[0;34m,\u001b[0m \u001b[0mFlyingThings3D\u001b[0m\u001b[0;34m,\u001b[0m \u001b[0mHD1K\u001b[0m\u001b[0;34m,\u001b[0m \u001b[0mKittiFlow\u001b[0m\u001b[0;34m,\u001b[0m \u001b[0mSintel\u001b[0m\u001b[0;34m\u001b[0m\u001b[0;34m\u001b[0m\u001b[0m\n\u001b[0m\u001b[1;32m      2\u001b[0m from ._stereo_matching import (\n\u001b[1;32m      3\u001b[0m     \u001b[0mCarlaStereo\u001b[0m\u001b[0;34m,\u001b[0m\u001b[0;34m\u001b[0m\u001b[0;34m\u001b[0m\u001b[0m\n\u001b[1;32m      4\u001b[0m     \u001b[0mCREStereo\u001b[0m\u001b[0;34m,\u001b[0m\u001b[0;34m\u001b[0m\u001b[0;34m\u001b[0m\u001b[0m\n\u001b[1;32m      5\u001b[0m     \u001b[0mETH3DStereo\u001b[0m\u001b[0;34m,\u001b[0m\u001b[0;34m\u001b[0m\u001b[0;34m\u001b[0m\u001b[0m\n",
            "\u001b[0;32m/usr/local/lib/python3.12/dist-packages/torchvision/datasets/_optical_flow.py\u001b[0m in \u001b[0;36m<module>\u001b[0;34m\u001b[0m\n\u001b[1;32m     10\u001b[0m \u001b[0;32mfrom\u001b[0m \u001b[0mPIL\u001b[0m \u001b[0;32mimport\u001b[0m \u001b[0mImage\u001b[0m\u001b[0;34m\u001b[0m\u001b[0;34m\u001b[0m\u001b[0m\n\u001b[1;32m     11\u001b[0m \u001b[0;34m\u001b[0m\u001b[0m\n\u001b[0;32m---> 12\u001b[0;31m \u001b[0;32mfrom\u001b[0m \u001b[0;34m.\u001b[0m\u001b[0;34m.\u001b[0m\u001b[0mio\u001b[0m\u001b[0;34m.\u001b[0m\u001b[0mimage\u001b[0m \u001b[0;32mimport\u001b[0m \u001b[0m_read_png_16\u001b[0m\u001b[0;34m\u001b[0m\u001b[0;34m\u001b[0m\u001b[0m\n\u001b[0m\u001b[1;32m     13\u001b[0m \u001b[0;32mfrom\u001b[0m \u001b[0;34m.\u001b[0m\u001b[0mutils\u001b[0m \u001b[0;32mimport\u001b[0m \u001b[0m_read_pfm\u001b[0m\u001b[0;34m,\u001b[0m \u001b[0mverify_str_arg\u001b[0m\u001b[0;34m\u001b[0m\u001b[0;34m\u001b[0m\u001b[0m\n\u001b[1;32m     14\u001b[0m \u001b[0;32mfrom\u001b[0m \u001b[0;34m.\u001b[0m\u001b[0mvision\u001b[0m \u001b[0;32mimport\u001b[0m \u001b[0mVisionDataset\u001b[0m\u001b[0;34m\u001b[0m\u001b[0;34m\u001b[0m\u001b[0m\n",
            "\u001b[0;32m/usr/local/lib/python3.12/dist-packages/torchvision/io/__init__.py\u001b[0m in \u001b[0;36m<module>\u001b[0;34m\u001b[0m\n\u001b[1;32m      3\u001b[0m \u001b[0;32mimport\u001b[0m \u001b[0mtorch\u001b[0m\u001b[0;34m\u001b[0m\u001b[0;34m\u001b[0m\u001b[0m\n\u001b[1;32m      4\u001b[0m \u001b[0;34m\u001b[0m\u001b[0m\n\u001b[0;32m----> 5\u001b[0;31m \u001b[0;32mfrom\u001b[0m \u001b[0;34m.\u001b[0m\u001b[0;34m.\u001b[0m\u001b[0mutils\u001b[0m \u001b[0;32mimport\u001b[0m \u001b[0m_log_api_usage_once\u001b[0m\u001b[0;34m\u001b[0m\u001b[0;34m\u001b[0m\u001b[0m\n\u001b[0m\u001b[1;32m      6\u001b[0m \u001b[0;34m\u001b[0m\u001b[0m\n\u001b[1;32m      7\u001b[0m \u001b[0;32mtry\u001b[0m\u001b[0;34m:\u001b[0m\u001b[0;34m\u001b[0m\u001b[0;34m\u001b[0m\u001b[0m\n",
            "\u001b[0;32m/usr/local/lib/python3.12/dist-packages/torchvision/utils.py\u001b[0m in \u001b[0;36m<module>\u001b[0;34m\u001b[0m\n\u001b[1;32m      9\u001b[0m \u001b[0;32mimport\u001b[0m \u001b[0mnumpy\u001b[0m \u001b[0;32mas\u001b[0m \u001b[0mnp\u001b[0m\u001b[0;34m\u001b[0m\u001b[0;34m\u001b[0m\u001b[0m\n\u001b[1;32m     10\u001b[0m \u001b[0;32mimport\u001b[0m \u001b[0mtorch\u001b[0m\u001b[0;34m\u001b[0m\u001b[0;34m\u001b[0m\u001b[0m\n\u001b[0;32m---> 11\u001b[0;31m \u001b[0;32mfrom\u001b[0m \u001b[0mPIL\u001b[0m \u001b[0;32mimport\u001b[0m \u001b[0mImage\u001b[0m\u001b[0;34m,\u001b[0m \u001b[0mImageColor\u001b[0m\u001b[0;34m,\u001b[0m \u001b[0mImageDraw\u001b[0m\u001b[0;34m,\u001b[0m \u001b[0mImageFont\u001b[0m\u001b[0;34m\u001b[0m\u001b[0;34m\u001b[0m\u001b[0m\n\u001b[0m\u001b[1;32m     12\u001b[0m \u001b[0;34m\u001b[0m\u001b[0m\n\u001b[1;32m     13\u001b[0m __all__ = [\n",
            "\u001b[0;32m/usr/local/lib/python3.12/dist-packages/PIL/ImageFont.py\u001b[0m in \u001b[0;36m<module>\u001b[0;34m\u001b[0m\n\u001b[1;32m     36\u001b[0m \u001b[0;32mfrom\u001b[0m \u001b[0;34m.\u001b[0m \u001b[0;32mimport\u001b[0m \u001b[0mImage\u001b[0m\u001b[0;34m\u001b[0m\u001b[0;34m\u001b[0m\u001b[0m\n\u001b[1;32m     37\u001b[0m \u001b[0;32mfrom\u001b[0m \u001b[0;34m.\u001b[0m\u001b[0m_deprecate\u001b[0m \u001b[0;32mimport\u001b[0m \u001b[0mdeprecate\u001b[0m\u001b[0;34m\u001b[0m\u001b[0;34m\u001b[0m\u001b[0m\n\u001b[0;32m---> 38\u001b[0;31m \u001b[0;32mfrom\u001b[0m \u001b[0;34m.\u001b[0m\u001b[0m_util\u001b[0m \u001b[0;32mimport\u001b[0m \u001b[0mis_directory\u001b[0m\u001b[0;34m,\u001b[0m \u001b[0mis_path\u001b[0m\u001b[0;34m\u001b[0m\u001b[0;34m\u001b[0m\u001b[0m\n\u001b[0m\u001b[1;32m     39\u001b[0m \u001b[0;34m\u001b[0m\u001b[0m\n\u001b[1;32m     40\u001b[0m \u001b[0;34m\u001b[0m\u001b[0m\n",
            "\u001b[0;31mImportError\u001b[0m: cannot import name 'is_directory' from 'PIL._util' (/usr/local/lib/python3.12/dist-packages/PIL/_util.py)",
            "",
            "\u001b[0;31m---------------------------------------------------------------------------\u001b[0;32m\nNOTE: If your import is failing due to a missing package, you can\nmanually install dependencies using either !pip or !apt.\n\nTo view examples of installing some common dependencies, click the\n\"Open Examples\" button below.\n\u001b[0;31m---------------------------------------------------------------------------\u001b[0m\n"
          ],
          "errorDetails": {
            "actions": [
              {
                "action": "open_url",
                "actionText": "Open Examples",
                "url": "/notebooks/snippets/importing_libraries.ipynb"
              }
            ]
          }
        }
      ]
    },
    {
      "cell_type": "code",
      "source": [
        "facebank, counts = {}, {}\n",
        "used_train, skipped_train = 0, 0\n",
        "\n",
        "for ident, files in tqdm(list(list_images(TRAIN_DIR)), desc=\"Build facebank\"):\n",
        "    use = files[:20] if len(files) > 20 else files  # 5–20 صورة/هوية تكفي كبداية\n",
        "    try:\n",
        "        reps = DeepFace.represent(\n",
        "            img_path=use,\n",
        "            model_name=MODEL,\n",
        "            detector_backend=BACKEND,\n",
        "            enforce_detection=False,\n",
        "            align=True\n",
        "        )\n",
        "    except Exception as e:\n",
        "        print(\"Error on\", ident, \"->\", e)\n",
        "        continue\n",
        "\n",
        "    vecs = []\n",
        "    for r in reps:\n",
        "        emb = r.get(\"embedding\", None)\n",
        "        if emb is None:\n",
        "            skipped_train += 1\n",
        "            continue\n",
        "        vecs.append(l2norm(emb))\n",
        "        used_train += 1\n",
        "\n",
        "    if not vecs:\n",
        "        continue\n",
        "    M = np.stack(vecs, axis=0)\n",
        "    centroid = l2norm(M.mean(axis=0))\n",
        "    facebank[ident] = centroid\n",
        "    counts[ident]   = len(vecs)\n",
        "\n",
        "idents = sorted(facebank.keys())\n",
        "centroids = np.stack([facebank[i] for i in idents], axis=0) if len(idents) else None\n",
        "print(f\"Identities enrolled: {len(idents)} | train images used: {used_train} | skipped: {skipped_train}\")\n"
      ],
      "metadata": {
        "colab": {
          "base_uri": "https://localhost:8080/"
        },
        "id": "pHQXDbpNEZIb",
        "outputId": "4ae929d8-eb5b-4dc3-c9a8-169503ba63d1"
      },
      "execution_count": 140,
      "outputs": [
        {
          "output_type": "stream",
          "name": "stderr",
          "text": [
            "Build facebank:   1%|          | 1/105 [00:01<02:43,  1.57s/it]"
          ]
        },
        {
          "output_type": "stream",
          "name": "stdout",
          "text": [
            "Error on pins_Adriana Lima -> 'KerasHistory' object has no attribute 'layer'\n"
          ]
        },
        {
          "output_type": "stream",
          "name": "stderr",
          "text": [
            "\rBuild facebank:   2%|▏         | 2/105 [00:02<02:25,  1.42s/it]"
          ]
        },
        {
          "output_type": "stream",
          "name": "stdout",
          "text": [
            "Error on pins_Alex Lawther -> 'KerasHistory' object has no attribute 'layer'\n"
          ]
        },
        {
          "output_type": "stream",
          "name": "stderr",
          "text": [
            "\rBuild facebank:   3%|▎         | 3/105 [00:04<02:13,  1.31s/it]"
          ]
        },
        {
          "output_type": "stream",
          "name": "stdout",
          "text": [
            "Error on pins_Alexandra Daddario -> 'KerasHistory' object has no attribute 'layer'\n"
          ]
        },
        {
          "output_type": "stream",
          "name": "stderr",
          "text": [
            "\rBuild facebank:   4%|▍         | 4/105 [00:05<02:17,  1.36s/it]"
          ]
        },
        {
          "output_type": "stream",
          "name": "stdout",
          "text": [
            "Error on pins_Alvaro Morte -> 'KerasHistory' object has no attribute 'layer'\n"
          ]
        },
        {
          "output_type": "stream",
          "name": "stderr",
          "text": [
            "\rBuild facebank:   5%|▍         | 5/105 [00:06<02:15,  1.36s/it]"
          ]
        },
        {
          "output_type": "stream",
          "name": "stdout",
          "text": [
            "Error on pins_Amanda Crew -> 'KerasHistory' object has no attribute 'layer'\n"
          ]
        },
        {
          "output_type": "stream",
          "name": "stderr",
          "text": [
            "\rBuild facebank:   6%|▌         | 6/105 [00:08<02:12,  1.34s/it]"
          ]
        },
        {
          "output_type": "stream",
          "name": "stdout",
          "text": [
            "Error on pins_Andy Samberg -> 'KerasHistory' object has no attribute 'layer'\n"
          ]
        },
        {
          "output_type": "stream",
          "name": "stderr",
          "text": [
            "\rBuild facebank:   7%|▋         | 7/105 [00:09<02:04,  1.27s/it]"
          ]
        },
        {
          "output_type": "stream",
          "name": "stdout",
          "text": [
            "Error on pins_Anne Hathaway -> 'KerasHistory' object has no attribute 'layer'\n"
          ]
        },
        {
          "output_type": "stream",
          "name": "stderr",
          "text": [
            "\rBuild facebank:   8%|▊         | 8/105 [00:10<02:16,  1.40s/it]"
          ]
        },
        {
          "output_type": "stream",
          "name": "stdout",
          "text": [
            "Error on pins_Anthony Mackie -> 'KerasHistory' object has no attribute 'layer'\n"
          ]
        },
        {
          "output_type": "stream",
          "name": "stderr",
          "text": [
            "\rBuild facebank:   9%|▊         | 9/105 [00:12<02:32,  1.59s/it]"
          ]
        },
        {
          "output_type": "stream",
          "name": "stdout",
          "text": [
            "Error on pins_Avril Lavigne -> 'KerasHistory' object has no attribute 'layer'\n"
          ]
        },
        {
          "output_type": "stream",
          "name": "stderr",
          "text": [
            "\rBuild facebank:  10%|▉         | 10/105 [00:14<02:29,  1.57s/it]"
          ]
        },
        {
          "output_type": "stream",
          "name": "stdout",
          "text": [
            "Error on pins_Ben Affleck -> 'KerasHistory' object has no attribute 'layer'\n"
          ]
        },
        {
          "output_type": "stream",
          "name": "stderr",
          "text": [
            "\rBuild facebank:  10%|█         | 11/105 [00:15<02:15,  1.44s/it]"
          ]
        },
        {
          "output_type": "stream",
          "name": "stdout",
          "text": [
            "Error on pins_Bill Gates -> 'KerasHistory' object has no attribute 'layer'\n"
          ]
        },
        {
          "output_type": "stream",
          "name": "stderr",
          "text": [
            "\rBuild facebank:  11%|█▏        | 12/105 [00:16<02:06,  1.36s/it]"
          ]
        },
        {
          "output_type": "stream",
          "name": "stdout",
          "text": [
            "Error on pins_Bobby Morley -> 'KerasHistory' object has no attribute 'layer'\n"
          ]
        },
        {
          "output_type": "stream",
          "name": "stderr",
          "text": [
            "\rBuild facebank:  12%|█▏        | 13/105 [00:18<02:23,  1.56s/it]"
          ]
        },
        {
          "output_type": "stream",
          "name": "stdout",
          "text": [
            "Error on pins_Brenton Thwaites -> 'KerasHistory' object has no attribute 'layer'\n"
          ]
        },
        {
          "output_type": "stream",
          "name": "stderr",
          "text": [
            "\rBuild facebank:  13%|█▎        | 14/105 [00:19<02:09,  1.43s/it]"
          ]
        },
        {
          "output_type": "stream",
          "name": "stdout",
          "text": [
            "Error on pins_Brian J. Smith -> 'KerasHistory' object has no attribute 'layer'\n"
          ]
        },
        {
          "output_type": "stream",
          "name": "stderr",
          "text": [
            "\rBuild facebank:  14%|█▍        | 15/105 [00:20<01:57,  1.30s/it]"
          ]
        },
        {
          "output_type": "stream",
          "name": "stdout",
          "text": [
            "Error on pins_Brie Larson -> 'KerasHistory' object has no attribute 'layer'\n"
          ]
        },
        {
          "output_type": "stream",
          "name": "stderr",
          "text": [
            "\rBuild facebank:  15%|█▌        | 16/105 [00:21<01:47,  1.21s/it]"
          ]
        },
        {
          "output_type": "stream",
          "name": "stdout",
          "text": [
            "Error on pins_Chris Evans -> 'KerasHistory' object has no attribute 'layer'\n"
          ]
        },
        {
          "output_type": "stream",
          "name": "stderr",
          "text": [
            "\rBuild facebank:  16%|█▌        | 17/105 [00:23<01:42,  1.17s/it]"
          ]
        },
        {
          "output_type": "stream",
          "name": "stdout",
          "text": [
            "Error on pins_Chris Hemsworth -> 'KerasHistory' object has no attribute 'layer'\n"
          ]
        },
        {
          "output_type": "stream",
          "name": "stderr",
          "text": [
            "\rBuild facebank:  17%|█▋        | 18/105 [00:24<01:50,  1.27s/it]"
          ]
        },
        {
          "output_type": "stream",
          "name": "stdout",
          "text": [
            "Error on pins_Chris Pratt -> 'KerasHistory' object has no attribute 'layer'\n"
          ]
        },
        {
          "output_type": "stream",
          "name": "stderr",
          "text": [
            "\rBuild facebank:  18%|█▊        | 19/105 [00:26<02:02,  1.43s/it]"
          ]
        },
        {
          "output_type": "stream",
          "name": "stdout",
          "text": [
            "Error on pins_Christian Bale -> 'KerasHistory' object has no attribute 'layer'\n"
          ]
        },
        {
          "output_type": "stream",
          "name": "stderr",
          "text": [
            "\rBuild facebank:  19%|█▉        | 20/105 [00:28<02:08,  1.51s/it]"
          ]
        },
        {
          "output_type": "stream",
          "name": "stdout",
          "text": [
            "Error on pins_Cristiano Ronaldo -> 'KerasHistory' object has no attribute 'layer'\n"
          ]
        },
        {
          "output_type": "stream",
          "name": "stderr",
          "text": [
            "\rBuild facebank:  20%|██        | 21/105 [00:29<01:54,  1.37s/it]"
          ]
        },
        {
          "output_type": "stream",
          "name": "stdout",
          "text": [
            "Error on pins_Danielle Panabaker -> 'KerasHistory' object has no attribute 'layer'\n"
          ]
        },
        {
          "output_type": "stream",
          "name": "stderr",
          "text": [
            "\rBuild facebank:  21%|██        | 22/105 [00:30<01:46,  1.29s/it]"
          ]
        },
        {
          "output_type": "stream",
          "name": "stdout",
          "text": [
            "Error on pins_Dominic Purcell -> 'KerasHistory' object has no attribute 'layer'\n"
          ]
        },
        {
          "output_type": "stream",
          "name": "stderr",
          "text": [
            "\rBuild facebank:  22%|██▏       | 23/105 [00:31<01:40,  1.23s/it]"
          ]
        },
        {
          "output_type": "stream",
          "name": "stdout",
          "text": [
            "Error on pins_Dwayne Johnson -> 'KerasHistory' object has no attribute 'layer'\n"
          ]
        },
        {
          "output_type": "stream",
          "name": "stderr",
          "text": [
            "\rBuild facebank:  23%|██▎       | 24/105 [00:32<01:36,  1.19s/it]"
          ]
        },
        {
          "output_type": "stream",
          "name": "stdout",
          "text": [
            "Error on pins_Eliza Taylor -> 'KerasHistory' object has no attribute 'layer'\n"
          ]
        },
        {
          "output_type": "stream",
          "name": "stderr",
          "text": [
            "\rBuild facebank:  24%|██▍       | 25/105 [00:33<01:33,  1.17s/it]"
          ]
        },
        {
          "output_type": "stream",
          "name": "stdout",
          "text": [
            "Error on pins_Elizabeth Lail -> 'KerasHistory' object has no attribute 'layer'\n"
          ]
        },
        {
          "output_type": "stream",
          "name": "stderr",
          "text": [
            "\rBuild facebank:  25%|██▍       | 26/105 [00:34<01:34,  1.19s/it]"
          ]
        },
        {
          "output_type": "stream",
          "name": "stdout",
          "text": [
            "Error on pins_Emilia Clarke -> 'KerasHistory' object has no attribute 'layer'\n"
          ]
        },
        {
          "output_type": "stream",
          "name": "stderr",
          "text": [
            "\rBuild facebank:  26%|██▌       | 27/105 [00:36<01:47,  1.38s/it]"
          ]
        },
        {
          "output_type": "stream",
          "name": "stdout",
          "text": [
            "Error on pins_Emma Stone -> 'KerasHistory' object has no attribute 'layer'\n"
          ]
        },
        {
          "output_type": "stream",
          "name": "stderr",
          "text": [
            "\rBuild facebank:  27%|██▋       | 28/105 [00:37<01:37,  1.26s/it]"
          ]
        },
        {
          "output_type": "stream",
          "name": "stdout",
          "text": [
            "Error on pins_Emma Watson -> 'KerasHistory' object has no attribute 'layer'\n"
          ]
        },
        {
          "output_type": "stream",
          "name": "stderr",
          "text": [
            "\rBuild facebank:  28%|██▊       | 29/105 [00:38<01:38,  1.29s/it]"
          ]
        },
        {
          "output_type": "stream",
          "name": "stdout",
          "text": [
            "Error on pins_Gwyneth Paltrow -> 'KerasHistory' object has no attribute 'layer'\n"
          ]
        },
        {
          "output_type": "stream",
          "name": "stderr",
          "text": [
            "\rBuild facebank:  29%|██▊       | 30/105 [00:40<01:44,  1.39s/it]"
          ]
        },
        {
          "output_type": "stream",
          "name": "stdout",
          "text": [
            "Error on pins_Henry Cavil -> 'KerasHistory' object has no attribute 'layer'\n"
          ]
        },
        {
          "output_type": "stream",
          "name": "stderr",
          "text": [
            "\rBuild facebank:  30%|██▉       | 31/105 [00:42<01:46,  1.44s/it]"
          ]
        },
        {
          "output_type": "stream",
          "name": "stdout",
          "text": [
            "Error on pins_Hugh Jackman -> 'KerasHistory' object has no attribute 'layer'\n"
          ]
        },
        {
          "output_type": "stream",
          "name": "stderr",
          "text": [
            "\rBuild facebank:  30%|███       | 32/105 [00:43<01:37,  1.33s/it]"
          ]
        },
        {
          "output_type": "stream",
          "name": "stdout",
          "text": [
            "Error on pins_Inbar Lavi -> 'KerasHistory' object has no attribute 'layer'\n"
          ]
        },
        {
          "output_type": "stream",
          "name": "stderr",
          "text": [
            "\rBuild facebank:  31%|███▏      | 33/105 [00:44<01:28,  1.24s/it]"
          ]
        },
        {
          "output_type": "stream",
          "name": "stdout",
          "text": [
            "Error on pins_Irina Shayk -> 'KerasHistory' object has no attribute 'layer'\n"
          ]
        },
        {
          "output_type": "stream",
          "name": "stderr",
          "text": [
            "\rBuild facebank:  32%|███▏      | 34/105 [00:45<01:23,  1.17s/it]"
          ]
        },
        {
          "output_type": "stream",
          "name": "stdout",
          "text": [
            "Error on pins_Jake Mcdorman -> 'KerasHistory' object has no attribute 'layer'\n"
          ]
        },
        {
          "output_type": "stream",
          "name": "stderr",
          "text": [
            "\rBuild facebank:  33%|███▎      | 35/105 [00:46<01:18,  1.13s/it]"
          ]
        },
        {
          "output_type": "stream",
          "name": "stdout",
          "text": [
            "Error on pins_Jason Momoa -> 'KerasHistory' object has no attribute 'layer'\n"
          ]
        },
        {
          "output_type": "stream",
          "name": "stderr",
          "text": [
            "\rBuild facebank:  34%|███▍      | 36/105 [00:47<01:15,  1.10s/it]"
          ]
        },
        {
          "output_type": "stream",
          "name": "stdout",
          "text": [
            "Error on pins_Jennifer Lawrence -> 'KerasHistory' object has no attribute 'layer'\n"
          ]
        },
        {
          "output_type": "stream",
          "name": "stderr",
          "text": [
            "\rBuild facebank:  35%|███▌      | 37/105 [00:48<01:12,  1.07s/it]"
          ]
        },
        {
          "output_type": "stream",
          "name": "stdout",
          "text": [
            "Error on pins_Jeremy Renner -> 'KerasHistory' object has no attribute 'layer'\n"
          ]
        },
        {
          "output_type": "stream",
          "name": "stderr",
          "text": [
            "\rBuild facebank:  36%|███▌      | 38/105 [00:49<01:10,  1.05s/it]"
          ]
        },
        {
          "output_type": "stream",
          "name": "stdout",
          "text": [
            "Error on pins_Jessica Barden -> 'KerasHistory' object has no attribute 'layer'\n"
          ]
        },
        {
          "output_type": "stream",
          "name": "stderr",
          "text": [
            "\rBuild facebank:  37%|███▋      | 39/105 [00:50<01:09,  1.05s/it]"
          ]
        },
        {
          "output_type": "stream",
          "name": "stdout",
          "text": [
            "Error on pins_Jimmy Fallon -> 'KerasHistory' object has no attribute 'layer'\n"
          ]
        },
        {
          "output_type": "stream",
          "name": "stderr",
          "text": [
            "\rBuild facebank:  38%|███▊      | 40/105 [00:51<01:09,  1.07s/it]"
          ]
        },
        {
          "output_type": "stream",
          "name": "stdout",
          "text": [
            "Error on pins_Johnny Depp -> 'KerasHistory' object has no attribute 'layer'\n"
          ]
        },
        {
          "output_type": "stream",
          "name": "stderr",
          "text": [
            "\rBuild facebank:  39%|███▉      | 41/105 [00:53<01:37,  1.52s/it]"
          ]
        },
        {
          "output_type": "stream",
          "name": "stdout",
          "text": [
            "Error on pins_Josh Radnor -> 'KerasHistory' object has no attribute 'layer'\n"
          ]
        },
        {
          "output_type": "stream",
          "name": "stderr",
          "text": [
            "\rBuild facebank:  40%|████      | 42/105 [00:55<01:36,  1.53s/it]"
          ]
        },
        {
          "output_type": "stream",
          "name": "stdout",
          "text": [
            "Error on pins_Katharine Mcphee -> 'KerasHistory' object has no attribute 'layer'\n"
          ]
        },
        {
          "output_type": "stream",
          "name": "stderr",
          "text": [
            "\rBuild facebank:  41%|████      | 43/105 [00:56<01:26,  1.40s/it]"
          ]
        },
        {
          "output_type": "stream",
          "name": "stdout",
          "text": [
            "Error on pins_Katherine Langford -> 'KerasHistory' object has no attribute 'layer'\n"
          ]
        },
        {
          "output_type": "stream",
          "name": "stderr",
          "text": [
            "\rBuild facebank:  42%|████▏     | 44/105 [00:57<01:18,  1.29s/it]"
          ]
        },
        {
          "output_type": "stream",
          "name": "stdout",
          "text": [
            "Error on pins_Keanu Reeves -> 'KerasHistory' object has no attribute 'layer'\n"
          ]
        },
        {
          "output_type": "stream",
          "name": "stderr",
          "text": [
            "\rBuild facebank:  43%|████▎     | 45/105 [00:58<01:13,  1.22s/it]"
          ]
        },
        {
          "output_type": "stream",
          "name": "stdout",
          "text": [
            "Error on pins_Krysten Ritter -> 'KerasHistory' object has no attribute 'layer'\n"
          ]
        },
        {
          "output_type": "stream",
          "name": "stderr",
          "text": [
            "\rBuild facebank:  44%|████▍     | 46/105 [00:59<01:08,  1.16s/it]"
          ]
        },
        {
          "output_type": "stream",
          "name": "stdout",
          "text": [
            "Error on pins_Leonardo DiCaprio -> 'KerasHistory' object has no attribute 'layer'\n"
          ]
        },
        {
          "output_type": "stream",
          "name": "stderr",
          "text": [
            "\rBuild facebank:  45%|████▍     | 47/105 [01:00<01:04,  1.11s/it]"
          ]
        },
        {
          "output_type": "stream",
          "name": "stdout",
          "text": [
            "Error on pins_Lili Reinhart -> 'KerasHistory' object has no attribute 'layer'\n"
          ]
        },
        {
          "output_type": "stream",
          "name": "stderr",
          "text": [
            "\rBuild facebank:  46%|████▌     | 48/105 [01:01<01:01,  1.08s/it]"
          ]
        },
        {
          "output_type": "stream",
          "name": "stdout",
          "text": [
            "Error on pins_Lindsey Morgan -> 'KerasHistory' object has no attribute 'layer'\n"
          ]
        },
        {
          "output_type": "stream",
          "name": "stderr",
          "text": [
            "\rBuild facebank:  47%|████▋     | 49/105 [01:02<01:00,  1.08s/it]"
          ]
        },
        {
          "output_type": "stream",
          "name": "stdout",
          "text": [
            "Error on pins_Lionel Messi -> 'KerasHistory' object has no attribute 'layer'\n"
          ]
        },
        {
          "output_type": "stream",
          "name": "stderr",
          "text": [
            "\rBuild facebank:  48%|████▊     | 50/105 [01:03<00:59,  1.09s/it]"
          ]
        },
        {
          "output_type": "stream",
          "name": "stdout",
          "text": [
            "Error on pins_Logan Lerman -> 'KerasHistory' object has no attribute 'layer'\n"
          ]
        },
        {
          "output_type": "stream",
          "name": "stderr",
          "text": [
            "\rBuild facebank:  49%|████▊     | 51/105 [01:05<00:59,  1.10s/it]"
          ]
        },
        {
          "output_type": "stream",
          "name": "stdout",
          "text": [
            "Error on pins_Madelaine Petsch -> 'KerasHistory' object has no attribute 'layer'\n"
          ]
        },
        {
          "output_type": "stream",
          "name": "stderr",
          "text": [
            "\rBuild facebank:  50%|████▉     | 52/105 [01:06<01:01,  1.17s/it]"
          ]
        },
        {
          "output_type": "stream",
          "name": "stdout",
          "text": [
            "Error on pins_Maisie Williams -> 'KerasHistory' object has no attribute 'layer'\n"
          ]
        },
        {
          "output_type": "stream",
          "name": "stderr",
          "text": [
            "\rBuild facebank:  50%|█████     | 53/105 [01:08<01:10,  1.35s/it]"
          ]
        },
        {
          "output_type": "stream",
          "name": "stdout",
          "text": [
            "Error on pins_Maria Pedraza -> 'KerasHistory' object has no attribute 'layer'\n"
          ]
        },
        {
          "output_type": "stream",
          "name": "stderr",
          "text": [
            "\rBuild facebank:  51%|█████▏    | 54/105 [01:09<01:15,  1.47s/it]"
          ]
        },
        {
          "output_type": "stream",
          "name": "stdout",
          "text": [
            "Error on pins_Marie Avgeropoulos -> 'KerasHistory' object has no attribute 'layer'\n"
          ]
        },
        {
          "output_type": "stream",
          "name": "stderr",
          "text": [
            "\rBuild facebank:  52%|█████▏    | 55/105 [01:12<01:26,  1.73s/it]"
          ]
        },
        {
          "output_type": "stream",
          "name": "stdout",
          "text": [
            "Error on pins_Mark Ruffalo -> 'KerasHistory' object has no attribute 'layer'\n"
          ]
        },
        {
          "output_type": "stream",
          "name": "stderr",
          "text": [
            "\rBuild facebank:  53%|█████▎    | 56/105 [01:13<01:16,  1.56s/it]"
          ]
        },
        {
          "output_type": "stream",
          "name": "stdout",
          "text": [
            "Error on pins_Mark Zuckerberg -> 'KerasHistory' object has no attribute 'layer'\n"
          ]
        },
        {
          "output_type": "stream",
          "name": "stderr",
          "text": [
            "\rBuild facebank:  54%|█████▍    | 57/105 [01:14<01:08,  1.42s/it]"
          ]
        },
        {
          "output_type": "stream",
          "name": "stdout",
          "text": [
            "Error on pins_Megan Fox -> 'KerasHistory' object has no attribute 'layer'\n"
          ]
        },
        {
          "output_type": "stream",
          "name": "stderr",
          "text": [
            "\rBuild facebank:  55%|█████▌    | 58/105 [01:15<01:04,  1.36s/it]"
          ]
        },
        {
          "output_type": "stream",
          "name": "stdout",
          "text": [
            "Error on pins_Miley Cyrus -> 'KerasHistory' object has no attribute 'layer'\n"
          ]
        },
        {
          "output_type": "stream",
          "name": "stderr",
          "text": [
            "\rBuild facebank:  56%|█████▌    | 59/105 [01:16<00:59,  1.30s/it]"
          ]
        },
        {
          "output_type": "stream",
          "name": "stdout",
          "text": [
            "Error on pins_Millie Bobby Brown -> 'KerasHistory' object has no attribute 'layer'\n"
          ]
        },
        {
          "output_type": "stream",
          "name": "stderr",
          "text": [
            "\rBuild facebank:  57%|█████▋    | 60/105 [01:17<00:55,  1.23s/it]"
          ]
        },
        {
          "output_type": "stream",
          "name": "stdout",
          "text": [
            "Error on pins_Morena Baccarin -> 'KerasHistory' object has no attribute 'layer'\n"
          ]
        },
        {
          "output_type": "stream",
          "name": "stderr",
          "text": [
            "\rBuild facebank:  58%|█████▊    | 61/105 [01:18<00:50,  1.16s/it]"
          ]
        },
        {
          "output_type": "stream",
          "name": "stdout",
          "text": [
            "Error on pins_Morgan Freeman -> 'KerasHistory' object has no attribute 'layer'\n"
          ]
        },
        {
          "output_type": "stream",
          "name": "stderr",
          "text": [
            "\rBuild facebank:  59%|█████▉    | 62/105 [01:20<00:56,  1.32s/it]"
          ]
        },
        {
          "output_type": "stream",
          "name": "stdout",
          "text": [
            "Error on pins_Nadia Hilker -> 'KerasHistory' object has no attribute 'layer'\n"
          ]
        },
        {
          "output_type": "stream",
          "name": "stderr",
          "text": [
            "\rBuild facebank:  60%|██████    | 63/105 [01:22<01:00,  1.44s/it]"
          ]
        },
        {
          "output_type": "stream",
          "name": "stdout",
          "text": [
            "Error on pins_Natalie Dormer -> 'KerasHistory' object has no attribute 'layer'\n"
          ]
        },
        {
          "output_type": "stream",
          "name": "stderr",
          "text": [
            "\rBuild facebank:  61%|██████    | 64/105 [01:24<01:03,  1.55s/it]"
          ]
        },
        {
          "output_type": "stream",
          "name": "stdout",
          "text": [
            "Error on pins_Natalie Portman -> 'KerasHistory' object has no attribute 'layer'\n"
          ]
        },
        {
          "output_type": "stream",
          "name": "stderr",
          "text": [
            "\rBuild facebank:  62%|██████▏   | 65/105 [01:25<00:56,  1.42s/it]"
          ]
        },
        {
          "output_type": "stream",
          "name": "stdout",
          "text": [
            "Error on pins_Neil Patrick Harris -> 'KerasHistory' object has no attribute 'layer'\n"
          ]
        },
        {
          "output_type": "stream",
          "name": "stderr",
          "text": [
            "\rBuild facebank:  63%|██████▎   | 66/105 [01:26<00:52,  1.35s/it]"
          ]
        },
        {
          "output_type": "stream",
          "name": "stdout",
          "text": [
            "Error on pins_Pedro Alonso -> 'KerasHistory' object has no attribute 'layer'\n"
          ]
        },
        {
          "output_type": "stream",
          "name": "stderr",
          "text": [
            "\rBuild facebank:  64%|██████▍   | 67/105 [01:27<00:48,  1.28s/it]"
          ]
        },
        {
          "output_type": "stream",
          "name": "stdout",
          "text": [
            "Error on pins_Penn Badgley -> 'KerasHistory' object has no attribute 'layer'\n"
          ]
        },
        {
          "output_type": "stream",
          "name": "stderr",
          "text": [
            "\rBuild facebank:  65%|██████▍   | 68/105 [01:28<00:46,  1.25s/it]"
          ]
        },
        {
          "output_type": "stream",
          "name": "stdout",
          "text": [
            "Error on pins_Rami Malek -> 'KerasHistory' object has no attribute 'layer'\n"
          ]
        },
        {
          "output_type": "stream",
          "name": "stderr",
          "text": [
            "\rBuild facebank:  66%|██████▌   | 69/105 [01:31<00:56,  1.56s/it]"
          ]
        },
        {
          "output_type": "stream",
          "name": "stdout",
          "text": [
            "Error on pins_Rebecca Ferguson -> 'KerasHistory' object has no attribute 'layer'\n"
          ]
        },
        {
          "output_type": "stream",
          "name": "stderr",
          "text": [
            "\rBuild facebank:  67%|██████▋   | 70/105 [01:32<00:49,  1.41s/it]"
          ]
        },
        {
          "output_type": "stream",
          "name": "stdout",
          "text": [
            "Error on pins_Richard Harmon -> 'KerasHistory' object has no attribute 'layer'\n"
          ]
        },
        {
          "output_type": "stream",
          "name": "stderr",
          "text": [
            "\rBuild facebank:  68%|██████▊   | 71/105 [01:33<00:44,  1.32s/it]"
          ]
        },
        {
          "output_type": "stream",
          "name": "stdout",
          "text": [
            "Error on pins_Rihanna -> 'KerasHistory' object has no attribute 'layer'\n"
          ]
        },
        {
          "output_type": "stream",
          "name": "stderr",
          "text": [
            "\rBuild facebank:  69%|██████▊   | 72/105 [01:34<00:43,  1.33s/it]"
          ]
        },
        {
          "output_type": "stream",
          "name": "stdout",
          "text": [
            "Error on pins_Robert De Niro -> 'KerasHistory' object has no attribute 'layer'\n"
          ]
        },
        {
          "output_type": "stream",
          "name": "stderr",
          "text": [
            "\rBuild facebank:  70%|██████▉   | 73/105 [01:36<00:46,  1.47s/it]"
          ]
        },
        {
          "output_type": "stream",
          "name": "stdout",
          "text": [
            "Error on pins_Robert Downey Jr -> 'KerasHistory' object has no attribute 'layer'\n"
          ]
        },
        {
          "output_type": "stream",
          "name": "stderr",
          "text": [
            "\rBuild facebank:  70%|███████   | 74/105 [01:38<00:47,  1.54s/it]"
          ]
        },
        {
          "output_type": "stream",
          "name": "stdout",
          "text": [
            "Error on pins_Sarah Wayne Callies -> 'KerasHistory' object has no attribute 'layer'\n"
          ]
        },
        {
          "output_type": "stream",
          "name": "stderr",
          "text": [
            "\rBuild facebank:  71%|███████▏  | 75/105 [01:39<00:43,  1.45s/it]"
          ]
        },
        {
          "output_type": "stream",
          "name": "stdout",
          "text": [
            "Error on pins_Selena Gomez -> 'KerasHistory' object has no attribute 'layer'\n"
          ]
        },
        {
          "output_type": "stream",
          "name": "stderr",
          "text": [
            "\rBuild facebank:  72%|███████▏  | 76/105 [01:40<00:39,  1.36s/it]"
          ]
        },
        {
          "output_type": "stream",
          "name": "stdout",
          "text": [
            "Error on pins_Shakira Isabel Mebarak -> 'KerasHistory' object has no attribute 'layer'\n"
          ]
        },
        {
          "output_type": "stream",
          "name": "stderr",
          "text": [
            "\rBuild facebank:  73%|███████▎  | 77/105 [01:41<00:35,  1.28s/it]"
          ]
        },
        {
          "output_type": "stream",
          "name": "stdout",
          "text": [
            "Error on pins_Sophie Turner -> 'KerasHistory' object has no attribute 'layer'\n"
          ]
        },
        {
          "output_type": "stream",
          "name": "stderr",
          "text": [
            "\rBuild facebank:  74%|███████▍  | 78/105 [01:42<00:32,  1.20s/it]"
          ]
        },
        {
          "output_type": "stream",
          "name": "stdout",
          "text": [
            "Error on pins_Stephen Amell -> 'KerasHistory' object has no attribute 'layer'\n"
          ]
        },
        {
          "output_type": "stream",
          "name": "stderr",
          "text": [
            "\rBuild facebank:  75%|███████▌  | 79/105 [01:43<00:30,  1.16s/it]"
          ]
        },
        {
          "output_type": "stream",
          "name": "stdout",
          "text": [
            "Error on pins_Taylor Swift -> 'KerasHistory' object has no attribute 'layer'\n"
          ]
        },
        {
          "output_type": "stream",
          "name": "stderr",
          "text": [
            "\rBuild facebank:  76%|███████▌  | 80/105 [01:44<00:27,  1.12s/it]"
          ]
        },
        {
          "output_type": "stream",
          "name": "stdout",
          "text": [
            "Error on pins_Tom Cruise -> 'KerasHistory' object has no attribute 'layer'\n"
          ]
        },
        {
          "output_type": "stream",
          "name": "stderr",
          "text": [
            "\rBuild facebank:  77%|███████▋  | 81/105 [01:45<00:26,  1.11s/it]"
          ]
        },
        {
          "output_type": "stream",
          "name": "stdout",
          "text": [
            "Error on pins_Tom Hardy -> 'KerasHistory' object has no attribute 'layer'\n"
          ]
        },
        {
          "output_type": "stream",
          "name": "stderr",
          "text": [
            "\rBuild facebank:  78%|███████▊  | 82/105 [01:46<00:25,  1.09s/it]"
          ]
        },
        {
          "output_type": "stream",
          "name": "stdout",
          "text": [
            "Error on pins_Tom Hiddleston -> 'KerasHistory' object has no attribute 'layer'\n"
          ]
        },
        {
          "output_type": "stream",
          "name": "stderr",
          "text": [
            "\rBuild facebank:  79%|███████▉  | 83/105 [01:47<00:23,  1.09s/it]"
          ]
        },
        {
          "output_type": "stream",
          "name": "stdout",
          "text": [
            "Error on pins_Tom Holland -> 'KerasHistory' object has no attribute 'layer'\n"
          ]
        },
        {
          "output_type": "stream",
          "name": "stderr",
          "text": [
            "\rBuild facebank:  80%|████████  | 84/105 [01:50<00:34,  1.64s/it]"
          ]
        },
        {
          "output_type": "stream",
          "name": "stdout",
          "text": [
            "Error on pins_Tuppence Middleton -> 'KerasHistory' object has no attribute 'layer'\n"
          ]
        },
        {
          "output_type": "stream",
          "name": "stderr",
          "text": [
            "\rBuild facebank:  81%|████████  | 85/105 [01:52<00:33,  1.66s/it]"
          ]
        },
        {
          "output_type": "stream",
          "name": "stdout",
          "text": [
            "Error on pins_Ursula Corbero -> 'KerasHistory' object has no attribute 'layer'\n"
          ]
        },
        {
          "output_type": "stream",
          "name": "stderr",
          "text": [
            "\rBuild facebank:  82%|████████▏ | 86/105 [01:53<00:29,  1.54s/it]"
          ]
        },
        {
          "output_type": "stream",
          "name": "stdout",
          "text": [
            "Error on pins_Wentworth Miller -> 'KerasHistory' object has no attribute 'layer'\n"
          ]
        },
        {
          "output_type": "stream",
          "name": "stderr",
          "text": [
            "\rBuild facebank:  83%|████████▎ | 87/105 [01:54<00:25,  1.41s/it]"
          ]
        },
        {
          "output_type": "stream",
          "name": "stdout",
          "text": [
            "Error on pins_Zac Efron -> 'KerasHistory' object has no attribute 'layer'\n"
          ]
        },
        {
          "output_type": "stream",
          "name": "stderr",
          "text": [
            "\rBuild facebank:  84%|████████▍ | 88/105 [01:55<00:22,  1.32s/it]"
          ]
        },
        {
          "output_type": "stream",
          "name": "stdout",
          "text": [
            "Error on pins_Zendaya -> 'KerasHistory' object has no attribute 'layer'\n"
          ]
        },
        {
          "output_type": "stream",
          "name": "stderr",
          "text": [
            "\rBuild facebank:  85%|████████▍ | 89/105 [01:57<00:20,  1.25s/it]"
          ]
        },
        {
          "output_type": "stream",
          "name": "stdout",
          "text": [
            "Error on pins_Zoe Saldana -> 'KerasHistory' object has no attribute 'layer'\n"
          ]
        },
        {
          "output_type": "stream",
          "name": "stderr",
          "text": [
            "\rBuild facebank:  86%|████████▌ | 90/105 [01:58<00:18,  1.20s/it]"
          ]
        },
        {
          "output_type": "stream",
          "name": "stdout",
          "text": [
            "Error on pins_alycia dabnem carey -> 'KerasHistory' object has no attribute 'layer'\n"
          ]
        },
        {
          "output_type": "stream",
          "name": "stderr",
          "text": [
            "\rBuild facebank:  87%|████████▋ | 91/105 [01:59<00:16,  1.17s/it]"
          ]
        },
        {
          "output_type": "stream",
          "name": "stdout",
          "text": [
            "Error on pins_amber heard -> 'KerasHistory' object has no attribute 'layer'\n"
          ]
        },
        {
          "output_type": "stream",
          "name": "stderr",
          "text": [
            "\rBuild facebank:  88%|████████▊ | 92/105 [02:00<00:14,  1.15s/it]"
          ]
        },
        {
          "output_type": "stream",
          "name": "stdout",
          "text": [
            "Error on pins_barack obama -> 'KerasHistory' object has no attribute 'layer'\n"
          ]
        },
        {
          "output_type": "stream",
          "name": "stderr",
          "text": [
            "\rBuild facebank:  89%|████████▊ | 93/105 [02:01<00:13,  1.13s/it]"
          ]
        },
        {
          "output_type": "stream",
          "name": "stdout",
          "text": [
            "Error on pins_barbara palvin -> 'KerasHistory' object has no attribute 'layer'\n"
          ]
        },
        {
          "output_type": "stream",
          "name": "stderr",
          "text": [
            "\rBuild facebank:  90%|████████▉ | 94/105 [02:02<00:12,  1.16s/it]"
          ]
        },
        {
          "output_type": "stream",
          "name": "stdout",
          "text": [
            "Error on pins_camila mendes -> 'KerasHistory' object has no attribute 'layer'\n"
          ]
        },
        {
          "output_type": "stream",
          "name": "stderr",
          "text": [
            "\rBuild facebank:  90%|█████████ | 95/105 [02:04<00:13,  1.37s/it]"
          ]
        },
        {
          "output_type": "stream",
          "name": "stdout",
          "text": [
            "Error on pins_elizabeth olsen -> 'KerasHistory' object has no attribute 'layer'\n"
          ]
        },
        {
          "output_type": "stream",
          "name": "stderr",
          "text": [
            "\rBuild facebank:  91%|█████████▏| 96/105 [02:06<00:13,  1.48s/it]"
          ]
        },
        {
          "output_type": "stream",
          "name": "stdout",
          "text": [
            "Error on pins_ellen page -> 'KerasHistory' object has no attribute 'layer'\n"
          ]
        },
        {
          "output_type": "stream",
          "name": "stderr",
          "text": [
            "\rBuild facebank:  92%|█████████▏| 97/105 [02:08<00:13,  1.66s/it]"
          ]
        },
        {
          "output_type": "stream",
          "name": "stdout",
          "text": [
            "Error on pins_elon musk -> 'KerasHistory' object has no attribute 'layer'\n"
          ]
        },
        {
          "output_type": "stream",
          "name": "stderr",
          "text": [
            "\rBuild facebank:  93%|█████████▎| 98/105 [02:09<00:10,  1.45s/it]"
          ]
        },
        {
          "output_type": "stream",
          "name": "stdout",
          "text": [
            "Error on pins_gal gadot -> 'KerasHistory' object has no attribute 'layer'\n"
          ]
        },
        {
          "output_type": "stream",
          "name": "stderr",
          "text": [
            "\rBuild facebank:  94%|█████████▍| 99/105 [02:10<00:08,  1.36s/it]"
          ]
        },
        {
          "output_type": "stream",
          "name": "stdout",
          "text": [
            "Error on pins_grant gustin -> 'KerasHistory' object has no attribute 'layer'\n"
          ]
        },
        {
          "output_type": "stream",
          "name": "stderr",
          "text": [
            "\rBuild facebank:  95%|█████████▌| 100/105 [02:11<00:06,  1.33s/it]"
          ]
        },
        {
          "output_type": "stream",
          "name": "stdout",
          "text": [
            "Error on pins_jeff bezos -> 'KerasHistory' object has no attribute 'layer'\n"
          ]
        },
        {
          "output_type": "stream",
          "name": "stderr",
          "text": [
            "\rBuild facebank:  96%|█████████▌| 101/105 [02:12<00:04,  1.24s/it]"
          ]
        },
        {
          "output_type": "stream",
          "name": "stdout",
          "text": [
            "Error on pins_kiernen shipka -> 'KerasHistory' object has no attribute 'layer'\n"
          ]
        },
        {
          "output_type": "stream",
          "name": "stderr",
          "text": [
            "\rBuild facebank:  97%|█████████▋| 102/105 [02:13<00:03,  1.20s/it]"
          ]
        },
        {
          "output_type": "stream",
          "name": "stdout",
          "text": [
            "Error on pins_margot robbie -> 'KerasHistory' object has no attribute 'layer'\n"
          ]
        },
        {
          "output_type": "stream",
          "name": "stderr",
          "text": [
            "\rBuild facebank:  98%|█████████▊| 103/105 [02:15<00:02,  1.19s/it]"
          ]
        },
        {
          "output_type": "stream",
          "name": "stdout",
          "text": [
            "Error on pins_melissa fumero -> 'KerasHistory' object has no attribute 'layer'\n"
          ]
        },
        {
          "output_type": "stream",
          "name": "stderr",
          "text": [
            "\rBuild facebank:  99%|█████████▉| 104/105 [02:16<00:01,  1.19s/it]"
          ]
        },
        {
          "output_type": "stream",
          "name": "stdout",
          "text": [
            "Error on pins_scarlett johansson -> 'KerasHistory' object has no attribute 'layer'\n"
          ]
        },
        {
          "output_type": "stream",
          "name": "stderr",
          "text": [
            "Build facebank: 100%|██████████| 105/105 [02:17<00:00,  1.31s/it]"
          ]
        },
        {
          "output_type": "stream",
          "name": "stdout",
          "text": [
            "Error on pins_tom ellis -> 'KerasHistory' object has no attribute 'layer'\n",
            "Identities enrolled: 0 | train images used: 0 | skipped: 0\n"
          ]
        },
        {
          "output_type": "stream",
          "name": "stderr",
          "text": [
            "\n"
          ]
        }
      ]
    },
    {
      "cell_type": "code",
      "source": [
        "total, correct = 0, 0\n",
        "scores_true, scores_false = [], []\n",
        "used_val, skipped_val = 0, 0\n",
        "\n",
        "for ident, files in tqdm(list(list_images(VAL_DIR)), desc=\"Eval on val\"):\n",
        "    if ident not in facebank:\n",
        "        continue\n",
        "    reps = DeepFace.represent(\n",
        "        img_path=files,\n",
        "        model_name=MODEL,\n",
        "        detector_backend=BACKEND,\n",
        "        enforce_detection=False,\n",
        "        align=True\n",
        "    )\n",
        "    for r in reps:\n",
        "        emb = r.get(\"embedding\", None)\n",
        "        if emb is None:\n",
        "            skipped_val += 1\n",
        "            continue\n",
        "        emb = l2norm(emb)\n",
        "        # تصنيف 1:N\n",
        "        sims = centroids @ emb\n",
        "        pred_idx = int(np.argmax(sims))\n",
        "        pred = idents[pred_idx]\n",
        "        total   += 1\n",
        "        correct += int(pred == ident)\n",
        "        used_val += 1\n",
        "\n",
        "        # درجات التحقق (موجب مقابل أقرب سالب)\n",
        "        scores_true.append(cosine(emb, facebank[ident]))\n",
        "        if len(idents) > 1:\n",
        "            other = np.delete(centroids, pred_idx, axis=0)\n",
        "            scores_false.append(float(np.max(other @ emb)))\n",
        "        else:\n",
        "            scores_false.append(0.0)\n",
        "\n",
        "acc = correct / max(total, 1)\n",
        "print(f\"\\n=== RESULTS ===\")\n",
        "print(f\"Top-1 Identification Accuracy: {acc:.4f}  ({correct}/{total})\")\n",
        "print(f\"Val images used: {used_val} | skipped (no embedding): {skipped_val}\")\n",
        "\n",
        "# اختيار أفضل عتبة للتحقق (maximize F1)\n",
        "best_f1, best_th = -1, 0.35\n",
        "ths = np.linspace(0.2, 0.8, 61)\n",
        "y_true  = np.array([1]*len(scores_true) + [0]*len(scores_false))\n",
        "y_score = np.array(scores_true + scores_false, dtype=\"float32\")\n",
        "\n",
        "for th in ths:\n",
        "    y_pred = (y_score >= th).astype(int)\n",
        "    tp = int(((y_pred==1)&(y_true==1)).sum())\n",
        "    fp = int(((y_pred==1)&(y_true==0)).sum())\n",
        "    fn = int(((y_pred==0)&(y_true==1)).sum())\n",
        "    prec = tp / max(tp+fp,1)\n",
        "    rec  = tp / max(tp+fn,1)\n",
        "    f1 = 2*prec*rec / max(prec+rec,1e-8)\n",
        "    if f1 > best_f1:\n",
        "        best_f1, best_th = f1, th\n",
        "\n",
        "print(f\"Best Verification F1: {best_f1:.4f} at Threshold = {best_th:.3f}\")\n"
      ],
      "metadata": {
        "colab": {
          "base_uri": "https://localhost:8080/"
        },
        "id": "umnanTtPTkvv",
        "outputId": "e38bbc57-5b5a-477b-a16c-bbb5f29f6136"
      },
      "execution_count": 141,
      "outputs": [
        {
          "output_type": "stream",
          "name": "stderr",
          "text": [
            "Eval on val: 100%|██████████| 105/105 [00:00<00:00, 209515.66it/s]"
          ]
        },
        {
          "output_type": "stream",
          "name": "stdout",
          "text": [
            "\n",
            "=== RESULTS ===\n",
            "Top-1 Identification Accuracy: 0.0000  (0/0)\n",
            "Val images used: 0 | skipped (no embedding): 0\n",
            "Best Verification F1: 0.0000 at Threshold = 0.200\n"
          ]
        },
        {
          "output_type": "stream",
          "name": "stderr",
          "text": [
            "\n"
          ]
        }
      ]
    },
    {
      "cell_type": "code",
      "source": [
        "import time, hashlib\n",
        "from deepface import DeepFace\n",
        "\n",
        "# تحميل المخرجات (لو فتحتِ نوتبوك جديد)\n",
        "# centroids = np.load(\"/content/facebank.npy\")\n",
        "# with open(\"/content/idents.json\") as f: idents = json.load(f)\n",
        "# with open(\"/content/config.json\") as f: cfg = json.load(f)\n",
        "# MODEL, BACKEND, THRESHOLD = cfg[\"model\"], cfg[\"backend\"], float(cfg[\"threshold\"])\n",
        "\n",
        "def cosine(a,b):\n",
        "    return float(np.dot(a,b)/(np.linalg.norm(a)*np.linalg.norm(b)+1e-8))\n",
        "\n",
        "def verify(username, image_path, threshold=THRESHOLD):\n",
        "    t0 = time.time()\n",
        "    if username not in idents:\n",
        "        return {\"decision\":\"DENIED\",\"reason\":\"user_not_enrolled\"}\n",
        "    # استخراج embedding للصورة\n",
        "    rep = DeepFace.represent(\n",
        "        img_path=image_path, model_name=MODEL, detector_backend=BACKEND,\n",
        "        enforce_detection=False, align=True\n",
        "    )\n",
        "    if not rep or \"embedding\" not in rep[0]:\n",
        "        return {\"decision\":\"DENIED\",\"reason\":\"no_embedding\"}\n",
        "\n",
        "    emb = np.array(rep[0][\"embedding\"], dtype=\"float32\")\n",
        "    emb = emb/(np.linalg.norm(emb)+1e-8)\n",
        "\n",
        "    # إيجاد سكّور المستخدم الصحيح\n",
        "    idx = idents.index(username)\n",
        "    user_vec = centroids[idx]\n",
        "    score = cosine(emb, user_vec)\n",
        "\n",
        "    decision = \"GRANTED\" if score >= threshold else \"DENIED\"\n",
        "    return {\n",
        "        \"ts\": time.strftime(\"%Y-%m-%d %H:%M:%S\"),\n",
        "        \"username_claim\": username,\n",
        "        \"decision\": decision,\n",
        "        \"score\": round(score,4),\n",
        "        \"threshold\": round(threshold,3),\n",
        "        \"latency_ms\": int((time.time()-t0)*1000),\n",
        "        \"model\": f\"DeepFace-{MODEL}\",\n",
        "        \"backend\": BACKEND,\n",
        "        \"image_md5\": hashlib.md5(open(image_path,'rb').read()).hexdigest()\n",
        "    }\n",
        "\n",
        "# تجربة سريعة (عدّلي المسار):\n",
        "test_img = \"/content/sampled/val/pins_Alexandra Daddario\"\n",
        "verify(\"pins_Alexandra Daddario\", test_img)\n"
      ],
      "metadata": {
        "colab": {
          "base_uri": "https://localhost:8080/"
        },
        "id": "ol6LDe5wSG4-",
        "outputId": "195d7c12-023a-47f3-e918-bc15883ae7f2"
      },
      "execution_count": 136,
      "outputs": [
        {
          "output_type": "execute_result",
          "data": {
            "text/plain": [
              "{'decision': 'DENIED', 'reason': 'user_not_enrolled'}"
            ]
          },
          "metadata": {},
          "execution_count": 136
        }
      ]
    },
    {
      "cell_type": "code",
      "source": [],
      "metadata": {
        "id": "r4oJOT-3UJ_b"
      },
      "execution_count": null,
      "outputs": []
    }
  ]
}